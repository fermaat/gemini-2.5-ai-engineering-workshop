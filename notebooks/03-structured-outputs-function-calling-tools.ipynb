{
 "cells": [
  {
   "cell_type": "markdown",
   "id": "ed0cc784",
   "metadata": {},
   "source": [
    "[![Open In Colab](https://colab.research.google.com/assets/colab-badge.svg)](https://colab.research.google.com/github/philschmid/gemini-2.5-ai-engineering-workshop/blob/main/notebooks/03-structured-outputs-function-calling-tools.ipynb)\n",
    "\n",
    "# Part 3: Structured Outputs, Function Calling & Native Tools\n",
    "\n",
    "This section covers three powerful capabilities of the Gemini API: structured outputs for extracting information into defined schemas, function calling for connecting to external tools and APIs, and native tools like Google Search for enhanced capabilities."
   ]
  },
  {
   "cell_type": "code",
   "execution_count": 1,
   "id": "e562211b",
   "metadata": {},
   "outputs": [],
   "source": [
    "from google import genai\n",
    "from google.genai import types\n",
    "from pydantic import BaseModel\n",
    "from typing import List, Optional\n",
    "import sys\n",
    "import os\n",
    "from IPython.display import Image, Markdown\n",
    "\n",
    "IN_COLAB = 'google.colab' in sys.modules\n",
    "\n",
    "if IN_COLAB:\n",
    "    from google.colab import userdata\n",
    "    GEMINI_API_KEY = userdata.get('GEMINI_API_KEY')\n",
    "else:\n",
    "    GEMINI_API_KEY = os.environ.get('GEMINI_API_KEY',None)\n",
    "\n",
    "# Create client with api key\n",
    "MODEL_ID = \"gemini-2.5-flash-preview-05-20\"\n",
    "client = genai.Client(api_key=GEMINI_API_KEY)"
   ]
  },
  {
   "cell_type": "markdown",
   "id": "b98ebd5b",
   "metadata": {},
   "source": [
    "## 1. Structured Outputs\n",
    "\n",
    "Structured outputs allow you to constrain Gemini to respond with JSON in a specific format instead of unstructured text. This is essential for:\n",
    "- **Data extraction**: Converting unstructured text into structured data\n",
    "- **API integration**: Getting consistent formats for downstream processing  \n",
    "- **Database insertion**: Ensuring data matches your schema requirements\n",
    "- **Quality control**: Validating that responses contain required fields"
   ]
  },
  {
   "cell_type": "code",
   "execution_count": 2,
   "id": "66a5ac27",
   "metadata": {},
   "outputs": [
    {
     "name": "stdout",
     "output_type": "stream",
     "text": [
      "Recipe: Classic Chocolate Chip Cookies\n",
      "Ingredients: ['1 cup (2 sticks) unsalted butter, softened', '3/4 cup granulated sugar', '3/4 cup packed light brown sugar', '2 large eggs', '1 teaspoon vanilla extract', '2 1/4 cups all-purpose flour', '1 teaspoon baking soda', '1/2 teaspoon salt', '2 cups (12 oz) chocolate chips']\n",
      "Prep Time: 20 minutes\n",
      "Difficulty: Easy\n",
      "Servings: 24\n",
      "\n",
      "\n",
      "Recipe: Chewy Oatmeal Raisin Cookies\n",
      "Ingredients: ['1 cup (2 sticks) unsalted butter, softened', '1 cup packed light brown sugar', '1/2 cup granulated sugar', '2 large eggs', '1 teaspoon vanilla extract', '1 1/2 cups all-purpose flour', '1 teaspoon baking soda', '1 teaspoon ground cinnamon', '1/2 teaspoon salt', '3 cups rolled oats', '1 1/2 cups raisins']\n",
      "Prep Time: 20 minutes\n",
      "Difficulty: Medium\n",
      "Servings: 24\n",
      "\n",
      "\n"
     ]
    }
   ],
   "source": [
    "class Recipe(BaseModel):\n",
    "    recipe_name: str\n",
    "    ingredients: List[str]\n",
    "    prep_time_minutes: int\n",
    "    difficulty: str  # \"easy\", \"medium\", \"hard\"\n",
    "    servings: int\n",
    "\n",
    "class RecipeList(BaseModel):\n",
    "    recipes: List[Recipe]\n",
    "\n",
    "# Using Pydantic models for structured output\n",
    "response = client.models.generate_content(\n",
    "    model=MODEL_ID,\n",
    "    contents=\"Give me 2 popular cookie recipes with ingredients and prep details.\",\n",
    "    config=types.GenerateContentConfig(\n",
    "        response_mime_type=\"application/json\",\n",
    "        response_schema=RecipeList,\n",
    "    ),\n",
    ")\n",
    "\n",
    "# Get structured data directly\n",
    "recipes: List[Recipe] = response.parsed\n",
    "for recipe in recipes.recipes:\n",
    "    print(f\"Recipe: {recipe.recipe_name}\")\n",
    "    print(f\"Ingredients: {recipe.ingredients}\")\n",
    "    print(f\"Prep Time: {recipe.prep_time_minutes} minutes\")\n",
    "    print(f\"Difficulty: {recipe.difficulty}\")\n",
    "    print(f\"Servings: {recipe.servings}\")\n",
    "    print(\"\\n\")"
   ]
  },
  {
   "cell_type": "markdown",
   "id": "11647938",
   "metadata": {},
   "source": [
    "## !! Exercise: PDF to Structured Data !!\n",
    "\n",
    "Extract structured information from a PDF invoice or document using the Files API and structured outputs.\n",
    "\n",
    "Tasks:\n",
    "- A Pydantic schema (`InvoiceItem` and `InvoiceData`) and an example PDF file path (`../assets/data/rewe_invoice.pdf`) are provided. You can use this or replace it with your own PDF invoice.\n",
    "- Upload the PDF file using `client.files.upload()`.\n",
    "- Call `client.models.generate_content()`:\n",
    "- Access the parsed structured data from `response.parsed`."
   ]
  },
  {
   "cell_type": "code",
   "execution_count": 3,
   "id": "5cbc0e89",
   "metadata": {},
   "outputs": [
    {
     "name": "stdout",
     "output_type": "stream",
     "text": [
      "{\"recipes\":[{\"recipe_name\":\"Classic Chocolate Chip Cookies\",\"ingredients\":[\"1 cup (2 sticks) unsalted butter, softened\",\"3/4 cup granulated sugar\",\"3/4 cup packed light brown sugar\",\"2 large eggs\",\"1 teaspoon vanilla extract\",\"2 1/4 cups all-purpose flour\",\"1 teaspoon baking soda\",\"1/2 teaspoon salt\",\"2 cups (12 oz) chocolate chips\"],\"prep_time_minutes\":20,\"difficulty\":\"Easy\",\"servings\":24},{\"recipe_name\":\"Chewy Oatmeal Raisin Cookies\",\"ingredients\":[\"1 cup (2 sticks) unsalted butter, softened\",\"1 cup packed light brown sugar\",\"1/2 cup granulated sugar\",\"2 large eggs\",\"1 teaspoon vanilla extract\",\"1 1/2 cups all-purpose flour\",\"1 teaspoon baking soda\",\"1 teaspoon ground cinnamon\",\"1/2 teaspoon salt\",\"3 cups rolled oats\",\"1 1/2 cups raisins\"],\"prep_time_minutes\":20,\"difficulty\":\"Medium\",\"servings\":24}]}\n",
      "Description: BUTTERKAESE\n",
      "Quantity: 1\n",
      "Unit Price: 1.79\n",
      "Total: 1.79\n",
      "\n",
      "\n",
      "Description: BRIOCHE BUNS 4ER\n",
      "Quantity: 1\n",
      "Unit Price: 1.69\n",
      "Total: 1.69\n",
      "\n",
      "\n",
      "Description: HUMMUS NATUR\n",
      "Quantity: 1\n",
      "Unit Price: 0.99\n",
      "Total: 0.99\n",
      "\n",
      "\n",
      "Description: SENSATIONAL BUR.\n",
      "Quantity: 1\n",
      "Unit Price: 3.19\n",
      "Total: 3.19\n",
      "\n",
      "\n",
      "Description: BANANE CHIQUITA\n",
      "Quantity: 0\n",
      "Unit Price: 2.39\n",
      "Total: 0.7\n",
      "\n",
      "\n",
      "Description: SUESSKARTOFFEL\n",
      "Quantity: 0\n",
      "Unit Price: 4.49\n",
      "Total: 1.99\n",
      "\n",
      "\n",
      "Description: EISBERGSALAT\n",
      "Quantity: 1\n",
      "Unit Price: 1.19\n",
      "Total: 1.19\n",
      "\n",
      "\n",
      "Description: CHERRYROMATOMATE\n",
      "Quantity: 1\n",
      "Unit Price: 1.15\n",
      "Total: 1.15\n",
      "\n",
      "\n",
      "Description: BIO EIER KL. S-L\n",
      "Quantity: 1\n",
      "Unit Price: 2.99\n",
      "Total: 2.99\n",
      "\n",
      "\n",
      "Description: PISTAZIENCREME\n",
      "Quantity: 1\n",
      "Unit Price: 6.99\n",
      "Total: 6.99\n",
      "\n",
      "\n"
     ]
    }
   ],
   "source": [
    "class InvoiceItem(BaseModel):\n",
    "    description: str\n",
    "    quantity: int\n",
    "    unit_price: float\n",
    "    total: float\n",
    "\n",
    "class InvoiceData(BaseModel):\n",
    "    invoice_number: str\n",
    "    date: str\n",
    "    vendor_name: str\n",
    "    vendor_address: str\n",
    "    total_amount: float\n",
    "    items: List[InvoiceItem]\n",
    "\n",
    "# Upload a PDF file (replace with your PDF path)\n",
    "pdf_file_path = \"../assets/data/rewe_invoice.pdf\"\n",
    "\n",
    "\n",
    "\n",
    "# TODO:\n",
    "pdf_file_path = \"../assets/data/rewe_invoice.pdf\"\n",
    "\n",
    "pdf_file_id = client.files.upload(file=pdf_file_path)\n",
    "\n",
    "prompt = \"Extract the invoice information from the given pdf.\"\n",
    "pdf_part = types.Part.from_uri(file_uri=pdf_file_id.uri, mime_type=pdf_file_id.mime_type)\n",
    "\n",
    "\n",
    "print(response.text)\n",
    "# Using Pydantic models for structured output\n",
    "response = client.models.generate_content(\n",
    "    model=MODEL_ID,\n",
    "    contents=[prompt, pdf_part],\n",
    "    config=types.GenerateContentConfig(\n",
    "        response_mime_type=\"application/json\",\n",
    "        response_schema=InvoiceData,\n",
    "    ),\n",
    ")\n",
    "\n",
    "# Get structured data directly\n",
    "invoices: List[InvoiceData] = response.parsed\n",
    "for invoice in invoices.items:\n",
    "    print(f\"Description: {invoice.description}\")\n",
    "    print(f\"Quantity: {invoice.quantity}\")\n",
    "    print(f\"Unit Price: {invoice.unit_price}\")\n",
    "    print(f\"Total: {invoice.total}\")\n",
    "    print(\"\\n\")"
   ]
  },
  {
   "cell_type": "markdown",
   "id": "aaeb2a48",
   "metadata": {},
   "source": [
    "## 2. Function Calling\n",
    "\n",
    "Function calling allows Gemini to intelligently decide when to call specific functions you define. This enables:\n",
    "- **External API integration**: Connect to weather, stocks, databases\n",
    "- **Dynamic calculations**: Perform real-time computations\n",
    "- **System interaction**: Execute commands or retrieve system information\n",
    "- **Multi-step workflows**: Chain function calls for complex tasks"
   ]
  },
  {
   "cell_type": "code",
   "execution_count": 4,
   "id": "8c8862da",
   "metadata": {},
   "outputs": [
    {
     "name": "stdout",
     "output_type": "stream",
     "text": [
      "Model wants to call: get_weather\n",
      "With arguments: {'location': 'Tokyo'}\n"
     ]
    }
   ],
   "source": [
    "def get_weather(location: str) -> dict:\n",
    "    \"\"\"Gets current weather for a location.\n",
    "    \n",
    "    Args:\n",
    "        location: The city name, e.g. \"San Francisco\"\n",
    "        \n",
    "    Returns:\n",
    "        Weather information dictionary\n",
    "    \"\"\"\n",
    "    # Mock weather data - in real use, you'd call a weather API\n",
    "    weather_data = {\n",
    "        \"temperature\": 22,\n",
    "        \"condition\": \"sunny\", \n",
    "        \"humidity\": 60,\n",
    "        \"location\": location,\n",
    "        \"feels_like\": 24\n",
    "    }\n",
    "    print(f\"🌤️ FUNCTION CALLED: get_weather(location='{location}')\")\n",
    "    return weather_data\n",
    "\n",
    "# Define function declarations for the model\n",
    "weather_function = {\n",
    "    \"name\": \"get_weather\",\n",
    "    \"description\": \"Gets current weather for a location\",\n",
    "    \"parameters\": {\n",
    "        \"type\": \"object\",\n",
    "        \"properties\": {\n",
    "            \"location\": {\n",
    "                \"type\": \"string\",\n",
    "                \"description\": \"The city name\"\n",
    "            }\n",
    "        },\n",
    "        \"required\": [\"location\"]\n",
    "    }\n",
    "}\n",
    "tools = [types.Tool(function_declarations=[weather_function])]\n",
    "\n",
    "# Define user prompt\n",
    "contents = [\n",
    "    types.Content(\n",
    "        role=\"user\", parts=[types.Part(text=\"Whats the weather in Tokyo?\")]\n",
    "    )\n",
    "]\n",
    "\n",
    "\n",
    "# Send request with function declarations\n",
    "response = client.models.generate_content(\n",
    "    model=MODEL_ID,\n",
    "    contents=contents,\n",
    "    config=types.GenerateContentConfig(tools=tools)\n",
    ")\n",
    "\n",
    "# Check for function calls\n",
    "function_call = response.candidates[0].content.parts[0].function_call\n",
    "print(f\"Model wants to call: {function_call.name}\")\n",
    "print(f\"With arguments: {dict(function_call.args)}\")"
   ]
  },
  {
   "cell_type": "code",
   "execution_count": 5,
   "id": "cd345daf",
   "metadata": {},
   "outputs": [
    {
     "name": "stdout",
     "output_type": "stream",
     "text": [
      "🌤️ FUNCTION CALLED: get_weather(location='Tokyo')\n",
      "Function result: {'temperature': 22, 'condition': 'sunny', 'humidity': 60, 'location': 'Tokyo', 'feels_like': 24}\n",
      "\n",
      "Final response: The weather in Tokyo is sunny, with a temperature of 22 degrees Celsius, and it feels like 24 degrees Celsius. The humidity is 60%.\n"
     ]
    }
   ],
   "source": [
    "# Execute the function\n",
    "if function_call.name == \"get_weather\":\n",
    "    result = get_weather(**function_call.args)\n",
    "else:\n",
    "    result = {\"error\": \"Unknown function\"}\n",
    "\n",
    "print(f\"Function result: {result}\")\n",
    "\n",
    "# Send function result back to model\n",
    "function_response_part = types.Part.from_function_response(\n",
    "    name=function_call.name,\n",
    "    response={\"result\": result}\n",
    ")\n",
    "# Append function call and result of the function execution to contents\n",
    "contents.append(types.Content(role=\"model\", parts=[types.Part(function_call=function_call)])) # Append the model's function call message\n",
    "contents.append(types.Content(role=\"user\", parts=[function_response_part])) # Append the function response\n",
    "\n",
    "# Get final response\n",
    "final_response = client.models.generate_content(\n",
    "    model=MODEL_ID,\n",
    "    contents=contents,\n",
    "    config=types.GenerateContentConfig(tools=tools)\n",
    ")\n",
    "\n",
    "print(f\"\\nFinal response: {final_response.text}\")"
   ]
  },
  {
   "cell_type": "markdown",
   "id": "353e5fb9",
   "metadata": {},
   "source": [
    "### Automatic Function Calling (Python Only)\n",
    "\n",
    "The Python SDK can automatically handle function execution for you:"
   ]
  },
  {
   "cell_type": "code",
   "execution_count": 6,
   "id": "a9d211ce",
   "metadata": {},
   "outputs": [
    {
     "name": "stdout",
     "output_type": "stream",
     "text": [
      "🌤️ FUNCTION CALLED: get_weather(location='Tokyo')\n",
      "CALC: 5 × 3 = 15\n",
      "The weather in Tokyo is sunny with a temperature of 22 degrees Celsius, and it feels like 24 degrees Celsius. The humidity is 60%. The area of a 5x3 meter room is 15 square meters.\n"
     ]
    }
   ],
   "source": [
    "def calculate_area(length: float, width: float) -> dict:\n",
    "    \"\"\"Calculate the area of a rectangle.\n",
    "    \n",
    "    Args:\n",
    "        length: Length of the rectangle\n",
    "        width: Width of the rectangle\n",
    "\n",
    "    Returns:\n",
    "        Price calculations\n",
    "    \"\"\"\n",
    "    area = length * width\n",
    "    print(f\"CALC: {length} × {width} = {area}\")\n",
    "    return {\"operation\": \"area\", \"result\": area}\n",
    "\n",
    "# Using automatic function calling - much simpler!\n",
    "config = types.GenerateContentConfig(\n",
    "    tools=[get_weather, calculate_area]  # Pass functions directly\n",
    ")\n",
    "\n",
    "response = client.models.generate_content(\n",
    "    model=MODEL_ID,\n",
    "    contents=\"What's the weather in Tokyo and what's the area of a 5x3 meter room?\",\n",
    "    config=config\n",
    ")\n",
    "\n",
    "print(response.text)  # SDK handles function calls automatically"
   ]
  },
  {
   "cell_type": "markdown",
   "id": "43b058db",
   "metadata": {},
   "source": [
    "## !! Exercise: Calculator Agent !!\n",
    "\n",
    "Create a set of calculator functions (add, subtract, multiply, divide) and use Gemini's function calling capability to perform calculations based on natural language prompts.\n",
    "\n",
    "Tasks:\n",
    "- Define Python functions for `add(a: float, b: float)`, `subtract(a: float, b: float)`, `multiply(a: float, b: float)`, and `divide(a: float, b: float)`.\n",
    "- Create a list of these functions (`calculator_tools`).\n",
    "- Test single operations with `client.models.generate_content()`:\n",
    "- Test complex expressions with a prompt for a multi-step calculation (e.g., \"Calculate (25 + 15) * 3 - 10. Do this step by step.\")."
   ]
  },
  {
   "cell_type": "code",
   "execution_count": 8,
   "id": "befb76f0",
   "metadata": {},
   "outputs": [
    {
     "name": "stdout",
     "output_type": "stream",
     "text": [
      "CALC: 25 + 15 = 40\n",
      "CALC: 40 x 3 = 120\n",
      "CALC: 120 - 10 = 110\n",
      "The result of (25 + 15) * 3 - 10 is 110.\n"
     ]
    }
   ],
   "source": [
    "# TODO:\n",
    "def add(a: float, b: float) -> float:\n",
    "    \"\"\"Calculate the sum of two numbers.\n",
    "    This function adds two numbers together and returns the result.\n",
    "    \n",
    "    Args:\n",
    "        a: first number\n",
    "        b: second number\n",
    "\n",
    "    Returns:\n",
    "        The sum of a and b\n",
    "    \"\"\"\n",
    "    result = a + b \n",
    "    print(f\"CALC: {a} + {b} = {result}\")\n",
    "    return result\n",
    "def subtract(a: float, b: float) -> float:\n",
    "    \"\"\"Calculate the difference between two numbers.\n",
    "    This function subtracts the second number from the first and returns the result.\n",
    "    Args:\n",
    "        a: first number\n",
    "        b: second number\n",
    "    Returns:\n",
    "        The difference between a and b\n",
    "    \"\"\"\n",
    "    result = a - b \n",
    "    print(f\"CALC: {a} - {b} = {result}\")\n",
    "    return result\n",
    "    \n",
    "def multiply(a: float, b: float) -> float:\n",
    "    \"\"\"Calculate the product of two numbers.\n",
    "    This function multiplies two numbers together and returns the result.\n",
    "    Args:\n",
    "        a: first number\n",
    "        b: second number\n",
    "    Returns:\n",
    "        The product of a and b\n",
    "    \"\"\"\n",
    "    result = a * b \n",
    "    print(f\"CALC: {a} x {b} = {result}\")\n",
    "    return result\n",
    "def divide(a: float, b: float) -> float:\n",
    "    \"\"\"Calculate the quotient of two numbers.\n",
    "    This function divides the first number by the second and returns the result.\n",
    "    Args:\n",
    "        a: numerator\n",
    "        b: denominator\n",
    "    Returns:\n",
    "        The quotient of a divided by b\n",
    "    \"\"\"\n",
    "    if b == 0:\n",
    "        raise ValueError(\"Cannot divide by zero\")\n",
    "    result = a / b \n",
    "    print(f\"CALC: {a} / {b} = {result}\")\n",
    "    return result\n",
    "\n",
    "\n",
    "calculator_tools = [add, subtract, multiply, divide]\n",
    "# Using automatic function calling - much simpler!\n",
    "config = types.GenerateContentConfig(\n",
    "    tools=calculator_tools  # Pass functions directly\n",
    ")\n",
    "\n",
    "prompt = \"Calculate (25 + 15) * 3 - 10. Do this step by step.\"\n",
    "\n",
    "response = client.models.generate_content(\n",
    "    model=MODEL_ID,\n",
    "    contents=prompt,\n",
    "    config=config\n",
    ")\n",
    "\n",
    "print(response.text)  # SDK handles function calls automatically"
   ]
  },
  {
   "cell_type": "markdown",
   "id": "656731a4",
   "metadata": {},
   "source": [
    "## 3. Native Tools\n",
    "\n",
    "Gemini provides native tools for enhanced capabilities like searching the web and analyzing URL content.\n",
    "\n",
    "### Google Search Integration\n",
    "\n",
    "**Use cases:**\n",
    "- Current events and news\n",
    "- Real-time data lookup\n",
    "- Fact verification\n",
    "- Research assistance"
   ]
  },
  {
   "cell_type": "code",
   "execution_count": 9,
   "id": "98d8213e",
   "metadata": {},
   "outputs": [
    {
     "name": "stdout",
     "output_type": "stream",
     "text": [
      "🔍 Current Renewable Energy News:\n",
      "The renewable energy sector is seeing significant advancements in 2025, particularly in solar, wind, and energy storage technologies, alongside the increasing integration of artificial intelligence (AI) and the development of green hydrogen. These innovations are making renewable energy more efficient, affordable, and reliable.\n",
      "\n",
      "Here are some of the latest developments:\n",
      "\n",
      "**1. Solar Energy**\n",
      "*   **Perovskite Solar Cells:** These cells are transforming solar power with improved efficiency (advancing from 3% in 2009 to over 25% currently, and potentially over 30% when combined with silicon in tandem cells) and affordability. Despite challenges with stability when exposed to moisture, oxygen, or heat, solutions like protective encapsulation and improved materials are being developed.\n",
      "*   **Bifacial Solar Panels:** Designed to capture sunlight from both sides, these panels are becoming more common, representing over 90% of module types used in simulations on the RatedPower platform in 2024. They offer higher energy yields with smaller footprints and are seeing cost reductions as production scales.\n",
      "*   **Floating Solar Farms (Floatovoltaics):** These are gaining popularity as a solution to land scarcity, utilizing water surfaces like reservoirs for installations. They can also benefit from the cooling effect of water, which can enhance efficiency by up to 15%.\n",
      "*   **Building-Integrated Photovoltaics (BIPV):** This involves transparent photovoltaic cells integrated into glass, which can reduce construction material costs and electricity expenses, while also offering thermal optimization and reduced emissions.\n",
      "*   **Anti-Solar Panels:** This new technology can generate power during the night by capturing heat radiated from the earth as infrared radiation.\n",
      "*   **Solar Canopies:** These awnings with embedded solar panels can provide a constant source of clean electricity for vehicles, such as EV chargers.\n",
      "*   **Improved Efficiency and Durability:** Overall solar panel efficiency is improving, with top panels exceeding 21% efficiency and some reaching over 22%. Next-generation panels use highly pure N-type cells with low degradation rates, allowing them to function at 90% or more even after 25 years.\n",
      "\n",
      "**2. Wind Energy**\n",
      "*   **Advanced Turbine Technology:** Manufacturers are developing larger and more efficient wind turbines, including 16 MW onshore turbines, to maximize energy capture and optimize power output. Improvements in blade aerodynamics, design, and materials are also enhancing performance.\n",
      "*   **Floating Offshore Wind Turbines:** These enable offshore wind farms to be built in deeper waters, expanding the potential for wind energy generation. The offshore wind energy market is projected to increase significantly from $4.91 billion in 2024 to $6.6 billion in 2025.\n",
      "*   **Vertical Axis Wind Turbines (VAWTs):** These are better suited for urban environments or regions with variable wind patterns as they can capture wind from any direction.\n",
      "*   **Wooden Turbine Towers:** Using wood for turbine towers is reducing production costs and emissions compared to steel, making wind energy more sustainable.\n",
      "*   **Residential Wind Turbines:** Smaller turbines designed for households are emerging, allowing communities to diversify renewable electricity with microgrids. This includes bladeless turbine designs that are easier to place in tight urban spaces.\n",
      "\n",
      "**3. Energy Storage Solutions**\n",
      "*   **Advanced Battery Technologies:**\n",
      "    *   **Lithium Iron Phosphate (LFP) Cells:** These are becoming a preferred choice for grid storage and electric vehicles due to their thermal stability and long lifespans. LFP prices have seen significant reductions, making BESS projects more economical.\n",
      "    *   **Lithium-Ion Alternatives:** Newer options like sodium-ion and zinc-based batteries are emerging as cheaper and safer alternatives, helping to address supply and material shortage issues. Potassium-ion batteries are also being developed as a cheaper, longer-lasting alternative for large-scale energy storage due to the abundance of potassium.\n",
      "    *   **Solid-State Batteries:** These batteries use solid electrolytes instead of liquid, offering better safety through non-flammable components and higher energy density.\n",
      "    *   **Hybrid Energy Storage Systems:** These combine technologies like lithium-ion batteries with supercapacitors to provide both high power for rapid demands and long-duration storage, enhancing grid balancing.\n",
      "*   **Battery Energy Storage Systems (BESS):** The global BESS market is experiencing rapid expansion, growing from $5.51 billion in 2023 to $6.99 billion in 2024, and is expected to continue its rapid expansion through 2025. The U.S. alone is projected to add a record 18.2 gigawatts of battery storage capacity in 2025.\n",
      "*   **Long-Duration Energy Storage:** The industry is transitioning towards solutions that provide longer storage durations. This includes technologies like advanced thermal energy storage (TES) and redox flow batteries (RFB).\n",
      "*   **Battery Recycling and Second-Life Applications:** Efforts are gaining momentum to improve battery recycling and enable second-life applications for used batteries, reducing environmental impact and promoting sustainability.\n",
      "\n",
      "**4. Other Emerging Technologies and Trends**\n",
      "*   **Green Hydrogen:** This zero-carbon fuel is emerging for hard-to-electrify sectors like heavy industry and long-haul transportation. Produced through water electrolysis powered by renewable energy, green hydrogen projects have seen significant investment growth between 2020 and 2024.\n",
      "*   **Artificial Intelligence (AI) and Digital Twin Technology:** AI and big data are revolutionizing how energy systems are managed and maintained. AI-powered smart grids can optimize energy production, predict maintenance needs, facilitate grid integration, and improve grid resilience by analyzing data and forecasting wear and tear. Digital twin technology creates virtual models of physical assets, allowing for optimized operations and reduced costs.\n",
      "*   **Distributed Energy Resources (DERs) and Microgrids:** The decentralization of energy generation through rooftop solar, small wind, and local battery systems is growing, improving energy reliability in communities and industrial sites.\n",
      "*   **Carbon Capture and Storage (CCS):** This technology continues to be a focus, with 130 large-scale operations currently in place.\n",
      "*   **Enhanced Geothermal Systems (EGS):** EGS show promise with a target of 90 gigawatts of installed capacity by 2050.\n",
      "*   **Smart Inverters:** These devices convert power from panels to the grid and can react to grid patterns to manage load more successfully, preventing blackouts and making panels more responsive.\n",
      "*   **Renewable Natural Gas:** This is another alternative energy source being explored for sustainable construction.\n",
      "*   **Electric Vehicles (EVs) as Storage:** EVs are being explored for their potential to act as energy storage units.\n",
      "\n",
      "By 2025, renewable electricity is expected to surpass coal as the world's leading energy source, marking a significant turning point in the fight against climate change.\n"
     ]
    }
   ],
   "source": [
    "# Define Google Search tool\n",
    "google_search_tool = types.Tool(google_search=types.GoogleSearch())\n",
    "\n",
    "# Current events query\n",
    "response = client.models.generate_content(\n",
    "    model=MODEL_ID,\n",
    "    contents=\"What are the latest developments in renewable energy technology in 2025?\",\n",
    "    config=types.GenerateContentConfig(\n",
    "        tools=[google_search_tool],\n",
    "    )\n",
    ")\n",
    "\n",
    "print(\"🔍 Current Renewable Energy News:\")\n",
    "print(response.text)"
   ]
  },
  {
   "cell_type": "markdown",
   "id": "d7fb0b0a",
   "metadata": {},
   "source": [
    "### URL Context Tool\n",
    "\n",
    "**Use cases:**\n",
    "- Website content analysis\n",
    "- Documentation summarization\n",
    "- Competitive research\n",
    "- Content extraction"
   ]
  },
  {
   "cell_type": "code",
   "execution_count": 10,
   "id": "b290e5a8",
   "metadata": {},
   "outputs": [
    {
     "name": "stdout",
     "output_type": "stream",
     "text": [
      "🌐 Python.org Summary:\n",
      "Here are the key features and benefits of Python:\n",
      "\n",
      "*   **Versatile and Powerful:** Python is a powerful and fast language that runs on various platforms and plays well with other technologies, supported by a vast ecosystem of third-party modules for diverse applications like web development, scientific computing, and software development.\n",
      "*   **User-Friendly and Accessible:** It is designed to be friendly and easy to learn, making it suitable for both novice and experienced programmers.\n",
      "*   **Open Source and Community-Driven:** Python is developed under an OSI-approved open-source license, allowing for free use and distribution, and is supported by a vibrant, diverse, and international community.\n"
     ]
    }
   ],
   "source": [
    "# URL context for analyzing specific web pages\n",
    "url_context_tool = types.Tool(url_context=types.UrlContext())\n",
    "\n",
    "response = client.models.generate_content(\n",
    "    model=MODEL_ID,\n",
    "    contents=\"Summarize the key features and benefits mentioned on https://www.python.org/about/ in 3 bullet points.\",\n",
    "    config=types.GenerateContentConfig(\n",
    "        tools=[url_context_tool],\n",
    "    )\n",
    ")\n",
    "\n",
    "print(\"🌐 Python.org Summary:\")\n",
    "print(response.text)"
   ]
  },
  {
   "cell_type": "markdown",
   "id": "25ec8bda",
   "metadata": {},
   "source": [
    "### Code Execution Tool\n",
    "\n",
    "Gemini can execute Python code to perform calculations, create visualizations, and process data."
   ]
  },
  {
   "cell_type": "code",
   "execution_count": 11,
   "id": "d3f5c6f8",
   "metadata": {},
   "outputs": [
    {
     "data": {
      "text/markdown": [
       "To create a bar chart showing the population of the 5 largest cities in the world, I first need the data for the city names and their estimated populations.\n",
       "\n",
       "I will use widely accepted approximate figures for the populations of the top 5 largest urban areas (as of late 2023 / early 2024). Please note that these figures can vary slightly depending on the source and the definition of \"city\" (e.g., city proper, urban area, metropolitan area). For this chart, I'm using urban area population estimates.\n",
       "\n",
       "Here are the cities and their approximate populations I will use:\n",
       "\n",
       "*   **Tokyo, Japan:** ~37.2 million\n",
       "*   **Delhi, India:** ~33.8 million\n",
       "*   **Shanghai, China:** ~29.9 million\n",
       "*   **Dhaka, Bangladesh:** ~23.9 million\n",
       "*   **São Paulo, Brazil:** ~22.6 million\n",
       "\n",
       "Now, I will generate the bar chart using `matplotlib`.\n",
       "\n"
      ],
      "text/plain": [
       "<IPython.core.display.Markdown object>"
      ]
     },
     "metadata": {},
     "output_type": "display_data"
    },
    {
     "data": {
      "text/markdown": [
       "```python\n",
       "import matplotlib.pyplot as plt\n",
       "import numpy as np\n",
       "\n",
       "# Data for the 5 largest cities (urban area population estimates)\n",
       "cities = ['Tokyo', 'Delhi', 'Shanghai', 'Dhaka', 'São Paulo']\n",
       "populations = [37.2, 33.8, 29.9, 23.9, 22.6] # in millions\n",
       "\n",
       "# Create the bar chart\n",
       "plt.figure(figsize=(10, 6)) # Set figure size for better readability\n",
       "plt.bar(cities, populations, color='skyblue')\n",
       "\n",
       "# Add labels and title\n",
       "plt.xlabel('City')\n",
       "plt.ylabel('Population (Millions)')\n",
       "plt.title('Population of the 5 Largest Urban Areas Worldwide')\n",
       "plt.xticks(rotation=45, ha='right') # Rotate x-axis labels for better fit\n",
       "plt.grid(axis='y', linestyle='--', alpha=0.7) # Add a grid for readability\n",
       "\n",
       "# Add population values on top of the bars\n",
       "for i, pop in enumerate(populations):\n",
       "    plt.text(i, pop + 0.5, f'{pop:.1f}M', ha='center', va='bottom')\n",
       "\n",
       "plt.tight_layout() # Adjust layout to prevent labels from overlapping\n",
       "plt.show()\n",
       "```"
      ],
      "text/plain": [
       "<IPython.core.display.Markdown object>"
      ]
     },
     "metadata": {},
     "output_type": "display_data"
    },
    {
     "data": {
      "image/png": "[encoded data removed]",
      "text/plain": [
       "<IPython.core.display.Image object>"
      ]
     },
     "metadata": {
      "image/png": {
       "width": 800
      }
     },
     "output_type": "display_data"
    },
    {
     "data": {
      "text/markdown": [
       "The bar chart successfully visualizes the population of the 5 largest urban areas worldwide based on the provided data.\n",
       "\n",
       "Here are the findings from the chart:\n",
       "\n",
       "*   **Chart Title:** Population of the 5 Largest Urban Areas Worldwide\n",
       "*   **X-axis:** City\n",
       "*   **Y-axis:** Population (Millions)\n",
       "\n",
       "The chart displays the following populations for each city:\n",
       "\n",
       "*   **Tokyo:** 37.2 Million\n",
       "*   **Delhi:** 33.8 Million\n",
       "*   **Shanghai:** 29.9 Million\n",
       "*   **Dhaka:** 23.9 Million\n",
       "*   **São Paulo:** 22.6 Million"
      ],
      "text/plain": [
       "<IPython.core.display.Markdown object>"
      ]
     },
     "metadata": {},
     "output_type": "display_data"
    }
   ],
   "source": [
    "# Code execution tool\n",
    "code_execution_tool = types.Tool(code_execution={})\n",
    "\n",
    "response = client.models.generate_content(\n",
    "    model=MODEL_ID,\n",
    "    contents=\"Create a bar chart showing the population of the 5 largest cities in the world. Use matplotlib.\",\n",
    "    config=types.GenerateContentConfig(\n",
    "        tools=[code_execution_tool],\n",
    "    )\n",
    ")\n",
    "\n",
    "\n",
    "for p in response.candidates[0].content.parts:\n",
    "    if p.text:\n",
    "        display(Markdown(p.text))\n",
    "    elif p.executable_code:\n",
    "        display(Markdown(f\"```python\\n{p.executable_code.code}\\n```\"))\n",
    "    elif p.inline_data:\n",
    "        display(Image(data=p.inline_data.data, width=800, format=\"png\"))\n"
   ]
  },
  {
   "cell_type": "markdown",
   "id": "151e3b5f",
   "metadata": {},
   "source": [
    "## !! Exercise: Data Analysis with Code Execution !!\n",
    "\n",
    "Combine Google Search and Code Execution tools to find real-world data and then analyze or visualize it using Python code generated and executed by Gemini.\n",
    "\n",
    "Tasks:\n",
    "- Define a prompt that requires both searching for information and then processing/visualizing that information. For example: \"Search for the population of the 5 largest cities in the world and create a bar chart of their populations.\"\n",
    "- Create a `types.Tool` for code execution: `code_execution_tool = types.Tool(code_execution={})`.\n",
    "- Create a `types.Tool` for Google Search: `google_search_tool = types.Tool(google_search=types.GoogleSearch())`.\n",
    "- Call `client.models.generate_content()`:\n",
    "- Iterate through the `response.candidates[0].content.parts` and display the parts."
   ]
  },
  {
   "cell_type": "code",
   "execution_count": 18,
   "id": "a0280253",
   "metadata": {},
   "outputs": [
    {
     "data": {
      "text/markdown": [
       "```python\n",
       "concise_search(\"Stormlight Archive POV characters by book\")\n",
       "```"
      ],
      "text/plain": [
       "<IPython.core.display.Markdown object>"
      ]
     },
     "metadata": {},
     "output_type": "display_data"
    },
    {
     "data": {
      "text/markdown": [
       "```python\n",
       "import pandas as pd\n",
       "import matplotlib.pyplot as plt\n",
       "\n",
       "# Data extracted from the Coppermind link (Result 1).\n",
       "# Manually counting unique POV characters listed under each book's \"Statistical Analysis\" section.\n",
       "# The main table on the first search result is for the *entire* series, not per book.\n",
       "# I will search specifically for \"The Way of Kings statistical analysis coppermind\" etc. to get the actual numbers.\n",
       "\n",
       "# Re-searching specifically for each book's POV count as the initial search results\n",
       "# give the total for the series for the main characters, but mentions \"links to a statistical analysis for each book\".\n",
       "# It's better to get precise numbers for each book.\n",
       "\n",
       "# Let's try to get more specific search results for each book's POV character count.\n",
       "# I will assume \"amount of POV characters\" means the count of *unique* characters with at least one POV.\n",
       "\n",
       "# Re-evaluating the first search result:\n",
       "# The main table on the first search result aggregates POVs for the entire series.\n",
       "# It says: \"Links to a statistical analysis for each book are available at that book's section below, which can easily be navigated to with the table of contents to the right.\"\n",
       "# I need to follow these links virtually or re-search with more specificity.\n",
       "\n",
       "# Let's use the provided content from the first result:\n",
       "# It lists \"The Way of Kings.\", \"Words of Radiance.\", \"Edgedancer.\", \"Oathbringer.\", \"Dawnshard.\", \"Rhythm of War.\", \"Wind and Truth.\".\n",
       "# It also lists individual character POV counts *across the entire series*. This is not what we need for \"each Stormlight Archive book\".\n",
       "\n",
       "# I will perform targeted searches to get the specific number of POV characters per book.\n",
       "\n",
       "concise_search(\"The Way of Kings POV characters count\")\n",
       "concise_search(\"Words of Radiance POV characters count\")\n",
       "concise_search(\"Oathbringer POV characters count\")\n",
       "concise_search(\"Rhythm of War POV characters count\")\n",
       "concise_search(\"Wind and Truth POV characters count\")\n",
       "concise_search(\"Edgedancer POV characters count\")\n",
       "concise_search(\"Dawnshard POV characters count\")\n",
       "```"
      ],
      "text/plain": [
       "<IPython.core.display.Markdown object>"
      ]
     },
     "metadata": {},
     "output_type": "display_data"
    },
    {
     "data": {
      "text/markdown": [
       "```python\n",
       "import pandas as pd\n",
       "import matplotlib.pyplot as plt\n",
       "\n",
       "data = {\n",
       "    'Book': [\n",
       "        'The Way of Kings',\n",
       "        'Words of Radiance',\n",
       "        'Edgedancer',\n",
       "        'Oathbringer',\n",
       "        'Dawnshard',\n",
       "        'Rhythm of War',\n",
       "        'Wind and Truth'\n",
       "    ],\n",
       "    'POV Characters': [\n",
       "        17,  # The Way of Kings\n",
       "        21,  # Words of Radiance\n",
       "        2,   # Edgedancer\n",
       "        29,  # Oathbringer\n",
       "        4,   # Dawnshard\n",
       "        24,  # Rhythm of War\n",
       "        33   # Wind and Truth\n",
       "    ]\n",
       "}\n",
       "\n",
       "df = pd.DataFrame(data)\n",
       "\n",
       "plt.figure(figsize=(10, 6))\n",
       "plt.bar(df['Book'], df['POV Characters'], color='skyblue')\n",
       "plt.xlabel('Book Title')\n",
       "plt.ylabel('Number of POV Characters')\n",
       "plt.title('Number of POV Characters in Each Stormlight Archive Book')\n",
       "plt.xticks(rotation=45, ha='right')\n",
       "plt.tight_layout()\n",
       "plt.show()\n",
       "```"
      ],
      "text/plain": [
       "<IPython.core.display.Markdown object>"
      ]
     },
     "metadata": {},
     "output_type": "display_data"
    },
    {
     "data": {
      "image/png": "[encoded data removed]",
      "text/plain": [
       "<IPython.core.display.Image object>"
      ]
     },
     "metadata": {
      "image/png": {
       "width": 800
      }
     },
     "output_type": "display_data"
    },
    {
     "data": {
      "text/markdown": [
       "I have gathered the number of unique POV characters for each Stormlight Archive book:\n",
       "\n",
       "*   **The Way of Kings:** 17\n",
       "*   **Words of Radiance:** 21\n",
       "*   **Edgedancer:** 2\n",
       "*   **Oathbringer:** 29\n",
       "*   **Dawnshard:** 4\n",
       "*   **Rhythm of War:** 24\n",
       "*   **Wind and Truth:** 33\n",
       "\n",
       "Here is a bar chart visualizing these results:\n",
       "\n"
      ],
      "text/plain": [
       "<IPython.core.display.Markdown object>"
      ]
     },
     "metadata": {},
     "output_type": "display_data"
    }
   ],
   "source": [
    "# TODO:\n",
    "# - Define a prompt that requires both searching for information and then processing/visualizing that information. For example: \"Search for the population of the 5 largest cities in the world and create a bar chart of their populations.\"\n",
    "prompt = \"search for the amount of POV characters present on each Stormilight Archive book by Brandon Sanderson and create a bar chart of those results\"\n",
    "# - Create a `types.Tool` for code execution: `code_execution_tool = types.Tool(code_execution={})`.\n",
    "code_execution_tool = types.Tool(code_execution={})\n",
    "# - Create a `types.Tool` for Google Search: `google_search_tool = types.Tool(google_search=types.GoogleSearch())`.\n",
    "google_search_tool = types.Tool(google_search=types.GoogleSearch())\n",
    "# - Call `client.models.generate_content()`:\n",
    "response = client.models.generate_content(\n",
    "    model=MODEL_ID,\n",
    "    contents=prompt,\n",
    "    config=types.GenerateContentConfig(\n",
    "        tools=[google_search_tool, code_execution_tool],\n",
    "    )\n",
    ")\n",
    "\n",
    "# - Iterate through the `response.candidates[0].content.parts` and display the parts.\n",
    "for p in response.candidates[0].content.parts:\n",
    "    if p.text:\n",
    "        display(Markdown(p.text))\n",
    "    elif p.executable_code:\n",
    "        display(Markdown(f\"```python\\n{p.executable_code.code}\\n```\"))\n",
    "    elif p.inline_data:\n",
    "        display(Image(data=p.inline_data.data, width=800, format=\"png\"))\n"
   ]
  },
  {
   "cell_type": "markdown",
   "id": "ff79425f",
   "metadata": {},
   "source": [
    "## Recap & Next Steps\n",
    "\n",
    "**What You've Learned:**\n",
    "- Structured outputs using Pydantic models for reliable data extraction and validation\n",
    "- Function calling to integrate external APIs, databases, and custom business logic\n",
    "- Native tools including Google Search, URL context analysis, and code execution\n",
    "- Combining multiple tools for comprehensive workflows and complex problem-solving\n",
    "\n",
    "**Key Takeaways:**\n",
    "- Structured outputs ensure consistent data formats for downstream applications\n",
    "- Function calling enables seamless integration with external systems and real-time data\n",
    "- Native tools provide powerful capabilities without additional setup or infrastructure\n",
    "- Tool combinations unlock sophisticated workflows and multi-step problem solving\n",
    "- Proper validation and error handling are crucial for reliable tool interactions\n",
    "\n",
    "**Next Steps:** Continue with [Part 4: Model Context Protocol (MCP)](https://github.com/philschmid/gemini-2.5-ai-engineering-workshop/blob/main/notebooks/04-model-context-protocol-mcp.ipynb) [![Open In Colab](https://colab.research.google.com/assets/colab-badge.svg)](https://colab.research.google.com/github/philschmid/gemini-2.5-ai-engineering-workshop/blob/main/notebooks/04-model-context-protocol-mcp.ipynb)\n",
    "\n",
    "**More Resources:**\n",
    "- [Structured Output Documentation](https://ai.google.dev/gemini-api/docs/structured-output?lang=python)\n",
    "- [Function Calling Documentation](https://ai.google.dev/gemini-api/docs/function-calling?lang=python)\n",
    "- [Grounding with Google Search](https://ai.google.dev/gemini-api/docs/grounding)\n",
    "- [URL Context Tool](https://ai.google.dev/gemini-api/docs/url-context)\n",
    "- [Code Execution Documentation](https://ai.google.dev/gemini-api/docs/code-execution)"
   ]
  }
 ],
 "metadata": {
  "kernelspec": {
   "display_name": "gemini_2.5_venv",
   "language": "python",
   "name": "python3"
  },
  "language_info": {
   "codemirror_mode": {
    "name": "ipython",
    "version": 3
   },
   "file_extension": ".py",
   "mimetype": "text/x-python",
   "name": "python",
   "nbconvert_exporter": "python",
   "pygments_lexer": "ipython3",
   "version": "3.12.9"
  }
 },
 "nbformat": 4,
 "nbformat_minor": 5
}
