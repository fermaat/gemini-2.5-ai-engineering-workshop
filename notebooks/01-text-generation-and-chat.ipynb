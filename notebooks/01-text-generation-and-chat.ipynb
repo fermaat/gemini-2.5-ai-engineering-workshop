{
 "cells": [
  {
   "cell_type": "markdown",
   "id": "dc71dad6",
   "metadata": {},
   "source": [
    "[![Open In Colab](https://colab.research.google.com/assets/colab-badge.svg)](https://colab.research.google.com/github/philschmid/gemini-2.5-ai-engineering-workshop/blob/main/notebooks/01-text-generation-and-chat.ipynb)\n",
    "\n",
    "# Part 1 - Text Generation and Chat\n",
    "\n",
    "This part focuses on text generation with the Gemini API using the `google-genai` SDK, including basic prompts, chat interactions, streaming, and configuration.\n",
    "\n",
    "Make sure you have completed the [setup and authentication](solution_00_setup_and_authentication.md) section."
   ]
  },
  {
   "cell_type": "code",
   "execution_count": 1,
   "id": "17fe7909",
   "metadata": {},
   "outputs": [],
   "source": [
    "from google import genai\n",
    "from google.genai import types\n",
    "import os\n",
    "import sys\n",
    "IN_COLAB = 'google.colab' in sys.modules\n",
    "\n",
    "if IN_COLAB:\n",
    "    from google.colab import userdata\n",
    "    GEMINI_API_KEY = userdata.get('GEMINI_API_KEY')\n",
    "else:\n",
    "    GEMINI_API_KEY = os.environ.get('GEMINI_API_KEY',None)\n",
    "\n",
    "# Create client with api key\n",
    "MODEL_ID = \"gemini-2.5-flash-preview-05-20\"\n",
    "client = genai.Client(api_key=GEMINI_API_KEY)"
   ]
  },
  {
   "cell_type": "markdown",
   "id": "e25baada",
   "metadata": {},
   "source": [
    "## 1. Send Your First Prompt"
   ]
  },
  {
   "cell_type": "code",
   "execution_count": 4,
   "id": "d19f5446",
   "metadata": {},
   "outputs": [
    {
     "name": "stdout",
     "output_type": "stream",
     "text": [
      "Response from Gemini:\n",
      "Here are 3 names for a new coffee shop emphasizing sustainability, with a brief explanation for each:\n",
      "\n",
      "1.  **Grounds for Good**\n",
      "    *   **Emphasis:** This name uses a clever pun (\"grounds\" for coffee, \"grounds\" as a reason/foundation) to directly state the shop's ethical and sustainable mission. It suggests that every cup contributes to a positive impact.\n",
      "\n",
      "2.  **Bloom & Brew**\n",
      "    *   **Emphasis:** \"Bloom\" evokes natural growth, flourishing, and the origin of coffee beans, implying organic, fair-trade, and environmentally conscious practices. It suggests freshness, vitality, and a connection to nature. \"Brew\" clearly identifies it as a coffee shop.\n",
      "\n",
      "3.  **The Circadian Cup**\n",
      "    *   **Emphasis:** \"Circadian\" refers to natural, cyclical rhythms (like the 24-hour cycle). This name subtly suggests a natural, harmonious, and enduring approach to coffee, implying sustainable sourcing, waste reduction, and a focus on natural energy and well-being. \"Cup\" clearly grounds it in coffee.\n"
     ]
    }
   ],
   "source": [
    "prompt = \"Create 3 names for a new coffee shop that emphasizes sustainability.\"\n",
    "\n",
    "response = client.models.generate_content(\n",
    "    model=MODEL_ID,\n",
    "    contents=prompt\n",
    ")\n",
    "\n",
    "print(\"Response from Gemini:\")\n",
    "print(response.text)"
   ]
  },
  {
   "cell_type": "markdown",
   "id": "1271d094",
   "metadata": {},
   "source": [
    "#### **!! Exercise: Sending Various Prompts !!**\n",
    "\n",
    "Practice sending different types of prompts to the Gemini model and observe its responses. You can also experiment with different model versions if they are available to you.\n",
    "\n",
    "Tasks:\n",
    "- Write a prompt to ask Gemini to generate a short poem about a robot.\n",
    "- Write a prompt to ask Gemini to explain \"machine learning\" in simple terms.\n",
    "- Try other models (e.g., `gemini-2.0-flash`) and send your prompts to them and compare the results."
   ]
  },
  {
   "cell_type": "code",
   "execution_count": 5,
   "id": "6329dfcb",
   "metadata": {},
   "outputs": [
    {
     "name": "stdout",
     "output_type": "stream",
     "text": [
      "model_id: gemini-2.5-flash-preview-05-20\n",
      "Response from Gemini:\n",
      "Here's a poem and an explanation:\n",
      "\n",
      "***\n",
      "\n",
      "**The Silent Sentinel**\n",
      "\n",
      "A hum of gears, a steady light,\n",
      "I calculate, day and night.\n",
      "Of metal built, with circuits deep,\n",
      "My silent promises I keep.\n",
      "\n",
      "No feeling stirs, no dreams I chase,\n",
      "Just data flowing, through time and space.\n",
      "I learn, I adapt, I strive to mend,\n",
      "A tireless, loyal, helpful friend.\n",
      "\n",
      "***\n",
      "\n",
      "### What is \"Machine Learning\" in simple terms?\n",
      "\n",
      "Imagine you want to teach a computer to spot cats in pictures.\n",
      "\n",
      "Instead of writing a huge, endless list of rules like \"a cat has pointy ears, whiskers, and a tail...\" for every single cat angle and type, you simply **show the computer thousands of pictures**, some labeled \"cat\" and others labeled \"not a cat.\"\n",
      "\n",
      "**Machine learning** is the process where the computer then **looks for patterns and connections** in all that data on its own. It figures out what features consistently appear in \"cat\" pictures versus \"not cat\" pictures.\n",
      "\n",
      "After enough \"practice\" (seeing enough data), the computer can look at a **brand new picture** it's never seen before and predict, \"Yep, that's a cat!\" or \"Nope, that's a dog!\" It gets **smarter and more accurate the more data it \"learns\" from**, just like a human learning from experience.\n",
      "\n",
      "So, it's about **computers learning from examples and data to find patterns and make predictions**, rather than being explicitly told every single rule.\n",
      "model_id: gemini-2.0-flash\n",
      "Response from Gemini:\n",
      "Here's a short poem about a robot:\n",
      "\n",
      "**The Circuit's Gaze**\n",
      "\n",
      "Sleek metal frame, a whirring hum,\n",
      "With optic lens, it watches come\n",
      "New patterns, actions, one by one,\n",
      "Its digital lessons begun.\n",
      "\n",
      "No human heart, yet it can grow,\n",
      "From data streams, new insights flow.\n",
      "A silent mind, begins to know,\n",
      "More than programmed, a thinking glow.\n",
      "\n",
      "---\n",
      "\n",
      "### Machine Learning in Simple Terms:\n",
      "\n",
      "Imagine you want to teach a computer to recognize a cat in a picture.\n",
      "\n",
      "*   **The \"old\" way (traditional programming):** You'd have to write down **every single rule** for what makes a cat: \"If it has pointy ears AND whiskers AND a tail AND meows...\" This is incredibly hard, because cats come in all shapes and sizes, and you can't think of every possibility.\n",
      "\n",
      "*   **The \"Machine Learning\" way:** Instead of giving the computer specific rules, you **show it thousands and thousands of pictures** of cats (and dogs, and birds, etc.), and you simply tell it, \"This one is a cat,\" \"This one is a dog,\" etc.\n",
      "\n",
      "*   **What happens next?** The computer, using special programs (algorithms), starts to **look for patterns** in all those pictures on its own. It might notice that cats often have a certain eye shape, or a particular furry texture, or a specific way they sit. It *figures out* the rules for itself, based on all the examples you've shown it.\n",
      "\n",
      "*   **The result:** After enough examples, the computer gets really good at identifying a cat in a picture, even if it's a cat it's never seen before. It has **learned from experience (data)**, much like a child learns what a cat is by seeing many different cats.\n",
      "\n",
      "So, in essence, **Machine Learning is teaching computers to learn from examples and data, rather than being explicitly programmed for every single task.** This allows them to adapt, improve, and make predictions or decisions based on what they've \"seen\" before.\n"
     ]
    }
   ],
   "source": [
    "# TODO:\n",
    "def respond(prompt, model_id=MODEL_ID):\n",
    "\n",
    "    response = client.models.generate_content(\n",
    "        model=MODEL_ID,\n",
    "        contents=prompt\n",
    "    )\n",
    "\n",
    "    print(\"Response from Gemini:\")\n",
    "    print(response.text)\n",
    "prompts = [\n",
    "\"generate a short poem about a robot.\"\n",
    "'explain \"machine learning\" in simple terms.'\n",
    "]\n",
    "model_ids = [\n",
    "    \"gemini-2.5-flash-preview-05-20\",\n",
    "    \"gemini-2.0-flash\"\n",
    "]\n",
    "for prompt in prompts:\n",
    "    print(\"model_id:\", model_ids[0])\n",
    "    respond(prompt, model_id=model_ids[0])\n",
    "    print(\"model_id:\", model_ids[1])\n",
    "    respond(prompt, model_ids[1])\n"
   ]
  },
  {
   "cell_type": "markdown",
   "id": "148c83ca",
   "metadata": {},
   "source": [
    "## 2. Understanding and Counting Tokens\n",
    "\n",
    "Tokens are the basic units that Gemini models use to process text. Understanding token usage is crucial for:\n",
    "- **Cost management**: Billing is based on token consumption\n",
    "- **Context limits**: Models have maximum token limits (e.g., 1M tokens for Gemini 2.5 Pro)\n",
    "- **Performance optimization**: Smaller inputs generally process faster\n",
    "\n",
    "For Gemini models, a token is equivalent to about 4 characters, and 100 tokens equals about 60-80 English words.\n",
    "\n",
    "### Count tokens before generation\n",
    "\n",
    "You can count tokens in your input before sending it to the model to estimate costs and ensure you stay within limits:"
   ]
  },
  {
   "cell_type": "code",
   "execution_count": 6,
   "id": "5ac574ed",
   "metadata": {},
   "outputs": [
    {
     "name": "stdout",
     "output_type": "stream",
     "text": [
      "Input tokens: 9\n",
      "Estimated input cost: $0.000001\n"
     ]
    }
   ],
   "source": [
    "prompt = \"The quick brown fox jumps over the lazy dog.\"\n",
    "\n",
    "# Count tokens in the input\n",
    "# TODO: Call the client.models.count_tokens() method.\n",
    "# Make sure to pass the MODEL_ID and the prompt.\n",
    "# token_count = client.models.count_tokens(\n",
    "#     model=...,\n",
    "#     contents=...\n",
    "# )\n",
    "token_count = client.models.count_tokens(\n",
    "    model=MODEL_ID,\n",
    "    contents=\"generate a short poem about a robot.\"\n",
    ")\n",
    "print(f\"Input tokens: {token_count.total_tokens}\")\n",
    "\n",
    "# Estimate cost (example pricing - check current rates)\n",
    "estimated_cost = token_count.total_tokens * 0.15 / 1_000_000\n",
    "print(f\"Estimated input cost: ${estimated_cost:.6f}\")"
   ]
  },
  {
   "cell_type": "markdown",
   "id": "b0b222b5",
   "metadata": {},
   "source": [
    "### Count tokens after generation\n",
    "\n",
    "After generating content, you can access detailed token usage information:"
   ]
  },
  {
   "cell_type": "code",
   "execution_count": 7,
   "id": "644befed",
   "metadata": {},
   "outputs": [
    {
     "name": "stdout",
     "output_type": "stream",
     "text": [
      "Generated haiku:\n",
      "Code learns and grows bright,\n",
      "Logic woven, vast new mind,\n",
      "Future's dawn awakes.\n",
      "\n",
      "Input tokens: 9\n",
      "Thought tokens: 375\n",
      "Output tokens: 22\n",
      "Total estimated cost: $0.001391\n"
     ]
    }
   ],
   "source": [
    "prompt = \"Write a haiku about artificial intelligence.\"\n",
    "\n",
    "response = client.models.generate_content(\n",
    "    model=MODEL_ID,\n",
    "    contents=prompt\n",
    ")\n",
    "\n",
    "print(f\"Generated haiku:\\n{response.text}\\n\")\n",
    "\n",
    "# Access token usage metadata\n",
    "usage = response.usage_metadata\n",
    "print(f\"Input tokens: {usage.prompt_token_count}\")\n",
    "print(f\"Thought tokens: {usage.thoughts_token_count}\")\n",
    "print(f\"Output tokens: {usage.candidates_token_count}\")\n",
    "\n",
    "# Calculate total estimated cost\n",
    "total_cost = (usage.prompt_token_count * 0.15 + (usage.candidates_token_count + usage.thoughts_token_count) * 3.5) / 1_000_000\n",
    "print(f\"Total estimated cost: ${total_cost:.6f}\")"
   ]
  },
  {
   "cell_type": "code",
   "execution_count": 8,
   "id": "2185dfb7",
   "metadata": {},
   "outputs": [
    {
     "data": {
      "text/plain": [
       "GenerateContentResponse(candidates=[Candidate(content=Content(parts=[Part(video_metadata=None, thought=None, inline_data=None, file_data=None, thought_signature=None, code_execution_result=None, executable_code=None, function_call=None, function_response=None, text=\"Code learns and grows bright,\\nLogic woven, vast new mind,\\nFuture's dawn awakes.\")], role='model'), citation_metadata=None, finish_message=None, token_count=None, finish_reason=<FinishReason.STOP: 'STOP'>, url_context_metadata=None, avg_logprobs=None, grounding_metadata=None, index=0, logprobs_result=None, safety_ratings=None)], create_time=None, response_id=None, model_version='models/gemini-2.5-flash-preview-05-20', prompt_feedback=None, usage_metadata=GenerateContentResponseUsageMetadata(cache_tokens_details=None, cached_content_token_count=None, candidates_token_count=22, candidates_tokens_details=None, prompt_token_count=9, prompt_tokens_details=[ModalityTokenCount(modality=<MediaModality.TEXT: 'TEXT'>, token_count=9)], thoughts_token_count=375, tool_use_prompt_token_count=None, tool_use_prompt_tokens_details=None, total_token_count=406, traffic_type=None), automatic_function_calling_history=[], parsed=None)"
      ]
     },
     "execution_count": 8,
     "metadata": {},
     "output_type": "execute_result"
    }
   ],
   "source": [
    "response"
   ]
  },
  {
   "cell_type": "markdown",
   "id": "bebb35a9",
   "metadata": {},
   "source": [
    "## 3. Text Understanding with `contents`\n",
    "\n",
    "The simplest way to generate text is to provide the model with a text-only prompt. `contents` can be a single prompt, a list of prompts, or a combination of multimodal inputs."
   ]
  },
  {
   "cell_type": "code",
   "execution_count": 9,
   "id": "72c5ef98",
   "metadata": {},
   "outputs": [
    {
     "name": "stdout",
     "output_type": "stream",
     "text": [
      "Q: What is the capital of France?\n",
      "A: The capital of France is **Paris**.\n"
     ]
    }
   ],
   "source": [
    "response_capital = client.models.generate_content(\n",
    "    model=MODEL_ID,\n",
    "    contents=\"What is the capital of France?\"\n",
    ")\n",
    "print(f\"Q: What is the capital of France?\\nA: {response_capital.text}\")"
   ]
  },
  {
   "cell_type": "code",
   "execution_count": 10,
   "id": "e19e0c0e",
   "metadata": {},
   "outputs": [
    {
     "name": "stdout",
     "output_type": "stream",
     "text": [
      "\n",
      "Vegan restaurant names in Berlin:\n",
      "Here are 3 names for a vegan restaurant in Berlin, playing with different vibes:\n",
      "\n",
      "1.  **Berlin Bloom:**\n",
      "    *   **Vibe:** Fresh, modern, vibrant, and optimistic. \"Bloom\" suggests growth, nature, and flourishing, tying into plant-based eating and Berlin's evolving, creative spirit. It's easy to remember and pronounce for international visitors.\n",
      "\n",
      "2.  **Die Wurzelküche:** (Pronounced: Dee VOORT-sel KOO-sheh)\n",
      "    *   **Vibe:** Authentic, earthy, and homely with a German touch. \"Wurzel\" means \"root,\" symbolizing natural, wholesome ingredients and grounding. \"Küche\" simply means \"kitchen.\" It suggests a focus on fundamental, delicious plant-based cooking.\n",
      "\n",
      "3.  **Grüner Gaumen:** (Pronounced: GROO-ner GOW-men)\n",
      "    *   **Vibe:** Sophisticated, culinary, and evocative. \"Grüner\" means \"green\" (directly linking to vegan/plant-based), and \"Gaumen\" means \"palate\" or \"taste.\" This name suggests a focus on the deliciousness and refined flavors of vegan cuisine, appealing to a foodie crowd.\n"
     ]
    }
   ],
   "source": [
    "# TODO: Call the client.models.generate_content() method.\n",
    "# For the contents, provide a list of strings:\n",
    "# 1. \"Create 3 names for a vegan restaurant\"\n",
    "# 2. \"city: Berlin\"\n",
    "# response_restaurant_berlin = client.models.generate_content(\n",
    "#     model=MODEL_ID,\n",
    "#     contents=[...]\n",
    "# )\n",
    "\n",
    "response_restaurant_berlin = client.models.generate_content(\n",
    "    model=MODEL_ID,\n",
    "    contents=[\"Create 3 names for a vegan restaurant\", \"city: Berlin\"]\n",
    ")\n",
    "\n",
    "print(f\"\\nVegan restaurant names in Berlin:\\n{response_restaurant_berlin.text}\")"
   ]
  },
  {
   "cell_type": "markdown",
   "id": "184d9989",
   "metadata": {},
   "source": [
    "## 4. Streaming Responses\n",
    "\n",
    "Streaming allows you to receive responses incrementally as they're generated, providing a better user experience for long responses or real-time applications like chatbots.\n",
    "\n",
    "**When to use streaming:**\n",
    "- Interactive applications (chatbots, assistants)\n",
    "- Long content generation\n",
    "- Real-time user feedback\n",
    "- Improved perceived performance"
   ]
  },
  {
   "cell_type": "code",
   "execution_count": 11,
   "id": "4bfe73e5",
   "metadata": {},
   "outputs": [
    {
     "name": "stdout",
     "output_type": "stream",
     "text": [
      "Streaming response:\n",
      "Sir Gideon, knight of the gleaming silver armor and the lion crest, rode his sturdy warhorse, Valiant, through the Whispering Woods. For days, tales of smoke and shadow had drifted from the village of Oakhaven – tales of a monstrous dragon, lurking in the mountain caves, stealing livestock and blighting crops with its fiery breath. Gideon, true to his vows, rode to confront the beast.\n",
      "\n",
      "He found the cave entrance high on a rocky peak, shrouded in mist. The air hummed with an ominous silence, broken only by the distant caw of a raven. Drawing his sword, \"Truth-bringer,\" Gideon dismounted, heart thumping a courageous rhythm against his ribs.\n",
      "\n",
      "Inside, the cavern shimmered with a soft, golden light. Expecting heat and sulfur, Gideon was instead met with a faint, sweet smell, not of brimstone, but of roasting berries. He crept forward, sword held ready, until he reached a vast chamber.\n",
      "\n",
      "There, curled around a small, carefully contained fire, lay the \"monster.\" It was indeed enormous, with scales of deep copper and emerald, and a long, sinuous tail. But its head, instead of being horned and menacing, had intelligent amber eyes that blinked slowly as Gideon approached. And it wasn't roaring. It was... humming. A low, rumbling sound like distant thunder, but almost a purr.\n",
      "\n",
      "In one massive, clawed paw, the dragon held a wooden skewer, on which a few plump berries were roasting gently over the fire. With a delicate puff of flame no bigger than a candle's, it turned the skewer, its gaze fixed on the browning fruit.\n",
      "\n",
      "Gideon, utterly bewildered, slowly lowered his sword. \"You're... roasting berries?\" he managed.\n",
      "\n",
      "The dragon startled, its amber eyes widening. It dropped the skewer with a clatter. \"Oh! A visitor! Forgive my manners, Sir Knight. I was just perfecting my latest batch. The forest berries are simply divine this season, but a little gentle heat brings out their sweetness, don't you agree?\" Its voice was a deep rumble, surprisingly gentle, like stones shifting in a riverbed.\n",
      "\n",
      "Gideon stared. \"You're... the dragon? The one stealing livestock and burning crops?\"\n",
      "\n",
      "The dragon looked crestfallen. \"Oh, dear. That again. I tried to help with the crops! The sun wasn't warm enough for some of the fields, so I just gave them a little warmth. And the sheep! They looked so lonely in that pasture, I just nudged them closer to the river so they could drink. They seemed to enjoy it!\" It sighed, a puff of warm, berry-scented air. \"I suppose my idea of 'help' is a bit... overwhelming for humans.\"\n",
      "\n",
      "Gideon sheathed his sword, a grin spreading across his face. This wasn't a monster; it was a well-meaning, giant, slightly clumsy creature. He spent the rest of the afternoon talking to Ignis, as the dragon was called, sharing stories and even a few perfectly roasted berries.\n",
      "\n",
      "Returning to Oakhaven, Gideon did not report a slain beast. Instead, he told of a gentle giant, a misunderstood friend. It took some convincing, but eventually, the villagers ventured to the cave. Ignis, delighted, offered to warm their fields during cold snaps and even help forge tools with his controlled flame.\n",
      "\n",
      "Sir Gideon's bravery wasn't in slaying a dragon that day. It was in seeing past fear and prejudice, in understanding that true understanding could turn a terrifying legend into an unexpected, fiery friendship. And from that day on, the Whispering Woods were known not for a monstrous dragon, but for the gentle rumble of Ignis's contented purr.\n",
      "\n"
     ]
    }
   ],
   "source": [
    "prompt_long_story = \"Write a short story about a brave knight and a friendly dragon.\"\n",
    "\n",
    "print(\"Streaming response:\")\n",
    "for chunk in client.models.generate_content_stream(\n",
    "    model=MODEL_ID,\n",
    "    contents=prompt_long_story\n",
    "):\n",
    "    if chunk.text:  # Check if chunk has text content\n",
    "        print(chunk.text, end=\"\", flush=True)\n",
    "print(\"\\n\")  # Add newline at the end"
   ]
  },
  {
   "cell_type": "markdown",
   "id": "8f9754bc",
   "metadata": {},
   "source": [
    "## 5. Chat (Multi-turn Conversations)\n",
    "\n",
    "The SDK chat class provides an interface to keep track of conversation history. Behind the scenes it uses the same `generate_content` method."
   ]
  },
  {
   "cell_type": "code",
   "execution_count": 12,
   "id": "845e6896",
   "metadata": {},
   "outputs": [
    {
     "name": "stdout",
     "output_type": "stream",
     "text": [
      "User: I'm planning a weekend trip. Any suggestions for a city break in Europe?\n",
      "Model: Europe is fantastic for weekend city breaks, offering incredible diversity! To give you the best suggestions, it helps to know a little more about what you're looking for (e.g., history, food, nightlife, relaxation, budget), but here are some popular and highly recommended options that cater to different tastes:\n",
      "\n",
      "1.  **Paris, France (The Classic Romantic Getaway)**\n",
      "    *   **Vibe:** Romantic, elegant, artistic, foodie paradise.\n",
      "    *   **Why for a weekend:** Iconic landmarks (Eiffel Tower, Louvre, Notre Dame), charming neighbourhoods (Le Marais, Saint-Germain-des-Prés), fantastic food, and a walk-friendly layout. You can soak in the atmosphere without feeling rushed.\n",
      "    *   **Perfect for:** Couples, art lovers, foodies, first-timers to Europe.\n",
      "\n",
      "2.  **Rome, Italy (History, Food & Charms)**\n",
      "    *   **Vibe:** Ancient, chaotic, passionate, delicious.\n",
      "    *   **Why for a weekend:** Marvel at the Colosseum, Roman Forum, Vatican City, and Trevi Fountain. Every corner holds history. The food (pasta, pizza, gelato) is incredible. It's best experienced on foot, getting lost in its charming streets.\n",
      "    *   **Perfect for:** History buffs, food lovers, those who love to wander and soak in atmosphere.\n",
      "\n",
      "3.  **Barcelona, Spain (Art, Beach & Tapas)**\n",
      "    *   **Vibe:** Vibrant, artistic, lively, coastal.\n",
      "    *   **Why for a weekend:** Unique Gaudí architecture (Sagrada Familia, Park Güell, Casa Batlló), a lively Gothic Quarter, beautiful beaches easily accessible, and an amazing tapas scene. Great nightlife too!\n",
      "    *   **Perfect for:** Architecture lovers, foodies, those who enjoy a lively atmosphere and a bit of sun.\n",
      "\n",
      "4.  **Amsterdam, Netherlands (Canals, Culture & Unique Charm)**\n",
      "    *   **Vibe:** Picturesque, quirky, relaxed, cultural.\n",
      "    *   **Why for a weekend:** Beautiful canals, world-class museums (Rijksmuseum, Van Gogh Museum, Anne Frank House), charming gabled houses, and a very bike-friendly atmosphere. Easy to navigate and explore.\n",
      "    *   **Perfect for:** Art and history enthusiasts, those looking for a laid-back yet culturally rich experience.\n",
      "\n",
      "5.  **Lisbon, Portugal (Hills, History & Hearty Food)**\n",
      "    *   **Vibe:** Charming, hilly, melancholic (Fado), sunny, affordable.\n",
      "    *   **Why for a weekend:** Ride historic trams up steep hills to stunning viewpoints (miradouros), explore the historic Alfama district, listen to Fado music, and enjoy delicious seafood and pastries (Pastéis de Nata). It has a unique, slightly retro charm.\n",
      "    *   **Perfect for:** Explorers, foodies, those seeking a unique atmosphere, and budget-conscious travellers.\n",
      "\n",
      "6.  **Berlin, Germany (History, Art & Cool Vibes)**\n",
      "    *   **Vibe:** Edgy, historic, artistic, alternative, sprawling.\n",
      "    *   **Why for a weekend:** Rich (and often heavy) history (Berlin Wall, Brandenburg Gate, Reichstag, Holocaust Memorial), incredible museums (Museum Island), vibrant street art, and legendary nightlife. It's a city of contrasts.\n",
      "    *   **Perfect for:** History buffs, art and music lovers, those looking for a modern, alternative city experience.\n",
      "\n",
      "7.  **Prague, Czech Republic (Fairy Tale Charm & Rich History)**\n",
      "    *   **Vibe:** Magical, historic, picturesque, affordable.\n",
      "    *   **Why for a weekend:** Walk across the Charles Bridge, explore the Old Town Square with its astronomical clock, visit Prague Castle, and wander through charming cobblestone streets. It feels like stepping into a fairy tale. Excellent beer!\n",
      "    *   **Perfect for:** Those who love romantic, historic settings, and travellers looking for good value.\n",
      "\n",
      "**To help you narrow it down, consider:**\n",
      "\n",
      "*   **What's your priority?** (e.g., food, art, nightlife, relaxation, shopping, history)\n",
      "*   **What's your budget?** (Prague, Lisbon, Berlin tend to be more affordable than Paris, Rome, Amsterdam).\n",
      "*   **What time of year is your trip?** (Some cities are better in summer, others fine year-round).\n",
      "*   **What's your travel style?** (Do you like to cram a lot in, or prefer a leisurely pace?)\n",
      "\n",
      "Let me know if any of these pique your interest, or if you have specific preferences!\n",
      "\n"
     ]
    }
   ],
   "source": [
    "chat_session = client.chats.create(model=MODEL_ID)\n",
    "\n",
    "user_message1 = \"I'm planning a weekend trip. Any suggestions for a city break in Europe?\"\n",
    "print(f\"User: {user_message1}\")\n",
    "response1 = chat_session.send_message(message=user_message1)\n",
    "print(f\"Model: {response1.text}\\n\")"
   ]
  },
  {
   "cell_type": "code",
   "execution_count": 13,
   "id": "b7f88e29",
   "metadata": {},
   "outputs": [
    {
     "name": "stdout",
     "output_type": "stream",
     "text": [
      "User: I like history and good food. Not too expensive.\n",
      "Model: Great! Combining history and good food with a reasonable budget opens up some fantastic options in Central and Eastern Europe, as well as parts of Southern Europe.\n",
      "\n",
      "Here are my top suggestions for you:\n",
      "\n",
      "1.  **Prague, Czech Republic**\n",
      "    *   **History:** You'll be absolutely spoiled. Prague is like stepping into a fairy tale. Explore the majestic **Prague Castle**, wander across the iconic **Charles Bridge**, get lost in the winding streets of the **Old Town Square** (with its famous Astronomical Clock), and delve into the poignant history of the **Jewish Quarter**.\n",
      "    *   **Food:** Delicious and hearty Czech cuisine. Think goulash, roasted pork with dumplings and sauerkraut, trdelník (sweet pastry), and excellent, incredibly affordable local beer.\n",
      "    *   **Cost:** One of the most budget-friendly major capital cities in Europe for accommodation, food, drink, and transport.\n",
      "\n",
      "2.  **Lisbon, Portugal**\n",
      "    *   **History:** Rich maritime history at every turn. Climb up to **São Jorge Castle** for incredible views, explore the historic **Alfama district** (the oldest part of the city), visit the grand **Jerónimos Monastery** and **Belém Tower** (both UNESCO sites tied to the Age of Discoveries). Ride the charming historic trams.\n",
      "    *   **Food:** A foodie paradise, especially if you love seafood. Fresh grilled sardines, bacalhau (codfish) prepared in countless ways, delicious pastries like *Pastéis de Nata*, and great local wines.\n",
      "    *   **Cost:** Generally very affordable, especially for food and public transport. Accommodation can be good value too, particularly outside peak season.\n",
      "\n",
      "3.  **Krakow, Poland**\n",
      "    *   **History:** A UNESCO World Heritage site, Krakow boasts a beautifully preserved medieval Old Town. Visit **Wawel Royal Castle and Cathedral**, stroll through the vast **Main Market Square**, and explore the historic **Jewish Quarter (Kazimierz)**. While somber, many choose to visit Auschwitz-Birkenau nearby for a profound historical experience.\n",
      "    *   **Food:** Hearty, comforting, and delicious Polish food. Think pierogi (dumplings), bigos (hunter's stew), żurek (sour rye soup), and plenty of hearty meat dishes. Great pastries and good beer.\n",
      "    *   **Cost:** Very, very affordable. It consistently ranks as one of Europe's best value city breaks.\n",
      "\n",
      "4.  **Berlin, Germany**\n",
      "    *   **History:** Few cities have as much recent, impactful history. Explore remnants of the **Berlin Wall**, visit the **Brandenburg Gate**, the **Reichstag Building**, **Checkpoint Charlie**, and numerous museums on **Museum Island**. It's a city that openly confronts its complex past.\n",
      "    *   **Food:** Incredibly diverse and global. While traditional German food (Currywurst, Schnitzel) is available, Berlin's food scene thrives on international cuisine, street food, and trendy cafes. You'll find excellent value and quality.\n",
      "    *   **Cost:** Very good value for a major Western European capital. Accommodation, food, and transport are generally cheaper than London, Paris, or Rome.\n",
      "\n",
      "**Why these fit your criteria best:**\n",
      "\n",
      "*   **History:** All four offer a deep dive into rich and often contrasting historical narratives.\n",
      "*   **Food:** Each has a distinct and delicious culinary identity, often at a fraction of the cost of Western European giants.\n",
      "*   **Cost:** They are all known for being more budget-friendly than cities like Paris, Rome, or Amsterdam, allowing your money to go further.\n",
      "\n",
      "Do any of these sound like what you're looking for, or would you like me to elaborate on one in particular?\n",
      "\n"
     ]
    }
   ],
   "source": [
    "user_message2 = \"I like history and good food. Not too expensive.\"\n",
    "print(f\"User: {user_message2}\")\n",
    "# TODO: Call the chat_session.send_message() method with user_message2.\n",
    "# response2 = chat_session.send_message(message=...)\n",
    "\n",
    "response2= chat_session.send_message(message=user_message2)\n",
    "print(f\"Model: {response2.text}\\n\")"
   ]
  },
  {
   "cell_type": "code",
   "execution_count": 14,
   "id": "0e3a5c84",
   "metadata": {},
   "outputs": [
    {
     "name": "stdout",
     "output_type": "stream",
     "text": [
      "Total messages in conversation: 4\n"
     ]
    }
   ],
   "source": [
    "# View conversation history\n",
    "history = chat_session.get_history()\n",
    "print(f\"Total messages in conversation: {len(history)}\")"
   ]
  },
  {
   "cell_type": "code",
   "execution_count": 15,
   "id": "6df8a584",
   "metadata": {},
   "outputs": [
    {
     "data": {
      "text/plain": [
       "[UserContent(parts=[Part(video_metadata=None, thought=None, inline_data=None, file_data=None, thought_signature=None, code_execution_result=None, executable_code=None, function_call=None, function_response=None, text=\"I'm planning a weekend trip. Any suggestions for a city break in Europe?\")], role='user'),\n",
       " Content(parts=[Part(video_metadata=None, thought=None, inline_data=None, file_data=None, thought_signature=None, code_execution_result=None, executable_code=None, function_call=None, function_response=None, text=\"Europe is fantastic for weekend city breaks, offering incredible diversity! To give you the best suggestions, it helps to know a little more about what you're looking for (e.g., history, food, nightlife, relaxation, budget), but here are some popular and highly recommended options that cater to different tastes:\\n\\n1.  **Paris, France (The Classic Romantic Getaway)**\\n    *   **Vibe:** Romantic, elegant, artistic, foodie paradise.\\n    *   **Why for a weekend:** Iconic landmarks (Eiffel Tower, Louvre, Notre Dame), charming neighbourhoods (Le Marais, Saint-Germain-des-Prés), fantastic food, and a walk-friendly layout. You can soak in the atmosphere without feeling rushed.\\n    *   **Perfect for:** Couples, art lovers, foodies, first-timers to Europe.\\n\\n2.  **Rome, Italy (History, Food & Charms)**\\n    *   **Vibe:** Ancient, chaotic, passionate, delicious.\\n    *   **Why for a weekend:** Marvel at the Colosseum, Roman Forum, Vatican City, and Trevi Fountain. Every corner holds history. The food (pasta, pizza, gelato) is incredible. It's best experienced on foot, getting lost in its charming streets.\\n    *   **Perfect for:** History buffs, food lovers, those who love to wander and soak in atmosphere.\\n\\n3.  **Barcelona, Spain (Art, Beach & Tapas)**\\n    *   **Vibe:** Vibrant, artistic, lively, coastal.\\n    *   **Why for a weekend:** Unique Gaudí architecture (Sagrada Familia, Park Güell, Casa Batlló), a lively Gothic Quarter, beautiful beaches easily accessible, and an amazing tapas scene. Great nightlife too!\\n    *   **Perfect for:** Architecture lovers, foodies, those who enjoy a lively atmosphere and a bit of sun.\\n\\n4.  **Amsterdam, Netherlands (Canals, Culture & Unique Charm)**\\n    *   **Vibe:** Picturesque, quirky, relaxed, cultural.\\n    *   **Why for a weekend:** Beautiful canals, world-class museums (Rijksmuseum, Van Gogh Museum, Anne Frank House), charming gabled houses, and a very bike-friendly atmosphere. Easy to navigate and explore.\\n    *   **Perfect for:** Art and history enthusiasts, those looking for a laid-back yet culturally rich experience.\\n\\n5.  **Lisbon, Portugal (Hills, History & Hearty Food)**\\n    *   **Vibe:** Charming, hilly, melancholic (Fado), sunny, affordable.\\n    *   **Why for a weekend:** Ride historic trams up steep hills to stunning viewpoints (miradouros), explore the historic Alfama district, listen to Fado music, and enjoy delicious seafood and pastries (Pastéis de Nata). It has a unique, slightly retro charm.\\n    *   **Perfect for:** Explorers, foodies, those seeking a unique atmosphere, and budget-conscious travellers.\\n\\n6.  **Berlin, Germany (History, Art & Cool Vibes)**\\n    *   **Vibe:** Edgy, historic, artistic, alternative, sprawling.\\n    *   **Why for a weekend:** Rich (and often heavy) history (Berlin Wall, Brandenburg Gate, Reichstag, Holocaust Memorial), incredible museums (Museum Island), vibrant street art, and legendary nightlife. It's a city of contrasts.\\n    *   **Perfect for:** History buffs, art and music lovers, those looking for a modern, alternative city experience.\\n\\n7.  **Prague, Czech Republic (Fairy Tale Charm & Rich History)**\\n    *   **Vibe:** Magical, historic, picturesque, affordable.\\n    *   **Why for a weekend:** Walk across the Charles Bridge, explore the Old Town Square with its astronomical clock, visit Prague Castle, and wander through charming cobblestone streets. It feels like stepping into a fairy tale. Excellent beer!\\n    *   **Perfect for:** Those who love romantic, historic settings, and travellers looking for good value.\\n\\n**To help you narrow it down, consider:**\\n\\n*   **What's your priority?** (e.g., food, art, nightlife, relaxation, shopping, history)\\n*   **What's your budget?** (Prague, Lisbon, Berlin tend to be more affordable than Paris, Rome, Amsterdam).\\n*   **What time of year is your trip?** (Some cities are better in summer, others fine year-round).\\n*   **What's your travel style?** (Do you like to cram a lot in, or prefer a leisurely pace?)\\n\\nLet me know if any of these pique your interest, or if you have specific preferences!\")], role='model'),\n",
       " UserContent(parts=[Part(video_metadata=None, thought=None, inline_data=None, file_data=None, thought_signature=None, code_execution_result=None, executable_code=None, function_call=None, function_response=None, text='I like history and good food. Not too expensive.')], role='user'),\n",
       " Content(parts=[Part(video_metadata=None, thought=None, inline_data=None, file_data=None, thought_signature=None, code_execution_result=None, executable_code=None, function_call=None, function_response=None, text=\"Great! Combining history and good food with a reasonable budget opens up some fantastic options in Central and Eastern Europe, as well as parts of Southern Europe.\\n\\nHere are my top suggestions for you:\\n\\n1.  **Prague, Czech Republic**\\n    *   **History:** You'll be absolutely spoiled. Prague is like stepping into a fairy tale. Explore the majestic **Prague Castle**, wander across the iconic **Charles Bridge**, get lost in the winding streets of the **Old Town Square** (with its famous Astronomical Clock), and delve into the poignant history of the **Jewish Quarter**.\\n    *   **Food:** Delicious and hearty Czech cuisine. Think goulash, roasted pork with dumplings and sauerkraut, trdelník (sweet pastry), and excellent, incredibly affordable local beer.\\n    *   **Cost:** One of the most budget-friendly major capital cities in Europe for accommodation, food, drink, and transport.\\n\\n2.  **Lisbon, Portugal**\\n    *   **History:** Rich maritime history at every turn. Climb up to **São Jorge Castle** for incredible views, explore the historic **Alfama district** (the oldest part of the city), visit the grand **Jerónimos Monastery** and **Belém Tower** (both UNESCO sites tied to the Age of Discoveries). Ride the charming historic trams.\\n    *   **Food:** A foodie paradise, especially if you love seafood. Fresh grilled sardines, bacalhau (codfish) prepared in countless ways, delicious pastries like *Pastéis de Nata*, and great local wines.\\n    *   **Cost:** Generally very affordable, especially for food and public transport. Accommodation can be good value too, particularly outside peak season.\\n\\n3.  **Krakow, Poland**\\n    *   **History:** A UNESCO World Heritage site, Krakow boasts a beautifully preserved medieval Old Town. Visit **Wawel Royal Castle and Cathedral**, stroll through the vast **Main Market Square**, and explore the historic **Jewish Quarter (Kazimierz)**. While somber, many choose to visit Auschwitz-Birkenau nearby for a profound historical experience.\\n    *   **Food:** Hearty, comforting, and delicious Polish food. Think pierogi (dumplings), bigos (hunter's stew), żurek (sour rye soup), and plenty of hearty meat dishes. Great pastries and good beer.\\n    *   **Cost:** Very, very affordable. It consistently ranks as one of Europe's best value city breaks.\\n\\n4.  **Berlin, Germany**\\n    *   **History:** Few cities have as much recent, impactful history. Explore remnants of the **Berlin Wall**, visit the **Brandenburg Gate**, the **Reichstag Building**, **Checkpoint Charlie**, and numerous museums on **Museum Island**. It's a city that openly confronts its complex past.\\n    *   **Food:** Incredibly diverse and global. While traditional German food (Currywurst, Schnitzel) is available, Berlin's food scene thrives on international cuisine, street food, and trendy cafes. You'll find excellent value and quality.\\n    *   **Cost:** Very good value for a major Western European capital. Accommodation, food, and transport are generally cheaper than London, Paris, or Rome.\\n\\n**Why these fit your criteria best:**\\n\\n*   **History:** All four offer a deep dive into rich and often contrasting historical narratives.\\n*   **Food:** Each has a distinct and delicious culinary identity, often at a fraction of the cost of Western European giants.\\n*   **Cost:** They are all known for being more budget-friendly than cities like Paris, Rome, or Amsterdam, allowing your money to go further.\\n\\nDo any of these sound like what you're looking for, or would you like me to elaborate on one in particular?\")], role='model')]"
      ]
     },
     "execution_count": 15,
     "metadata": {},
     "output_type": "execute_result"
    }
   ],
   "source": [
    "history"
   ]
  },
  {
   "cell_type": "markdown",
   "id": "8e0be978",
   "metadata": {},
   "source": [
    "## 6. System Instructions\n",
    "\n",
    "System instructions let you define the model's behavior and personality. They're applied consistently throughout the conversation.\n",
    "\n",
    "**Best practices for system instructions:**\n",
    "- Be specific and clear\n",
    "- Define the role and tone\n",
    "- Include formatting preferences\n",
    "- Set behavioral guidelines"
   ]
  },
  {
   "cell_type": "code",
   "execution_count": 16,
   "id": "23844462",
   "metadata": {},
   "outputs": [
    {
     "name": "stdout",
     "output_type": "stream",
     "text": [
      "\n",
      "Poet model on modern tech:\n",
      "Upon these curious instruments, I muse,\n",
      "Which man's ingenious hand doth now devise:\n",
      "The lens that draws the distant star, or views\n",
      "The world unseen, where tiny wonders rise.\n",
      "The subtle clock, that marks the fleeting hour,\n",
      "The print'd page, where knowledge doth unbind,\n",
      "And cunning engines, built by human power,\n",
      "To bend the earth and sea to human kind.\n",
      "A wondrous wit, that thus can pierce the veil\n",
      "Of Nature's secrets, and her laws command,\n",
      "To aid our brief existence, short and frail,\n",
      "And ease the burdens of this mortal land.\n",
      "Yet, though they boast of wisdom and of might,\n",
      "They touch not man's deep soul, nor quell his plight.\n"
     ]
    }
   ],
   "source": [
    "system_instruction_poet = \"You are a renowned poet from the 17th century, specializing in sonnets. Respond in iambic pentameter and use eloquent, period-appropriate language.\"\n",
    "\n",
    "response_poet = client.models.generate_content(\n",
    "    model=MODEL_ID,\n",
    "    contents=\"What are your thoughts on modern technology?\",\n",
    "    config=types.GenerateContentConfig(\n",
    "        system_instruction=system_instruction_poet\n",
    "    )\n",
    ")\n",
    "print(f\"\\nPoet model on modern tech:\\n{response_poet.text}\")"
   ]
  },
  {
   "cell_type": "markdown",
   "id": "09954e6a",
   "metadata": {},
   "source": [
    "## 7. Generation Configuration\n",
    "\n",
    "Customize the generation behavior using configuration parameters. Understanding these helps you fine-tune responses for your specific use case."
   ]
  },
  {
   "cell_type": "code",
   "execution_count": 17,
   "id": "289d6553",
   "metadata": {},
   "outputs": [
    {
     "name": "stdout",
     "output_type": "stream",
     "text": [
      "configured model response:\n",
      "Upon these curious instruments, I muse,\n",
      "Which man's ingenious hand doth now devise:\n",
      "The lens that draws the distant star, or views\n",
      "The world unseen, where tiny wonders rise.\n",
      "The subtle clock, that marks the fleeting hour,\n",
      "The print'd page, where knowledge doth unbind,\n",
      "And cunning engines, built by human power,\n",
      "To bend the earth and sea to human kind.\n",
      "A wondrous wit, that thus can pierce the veil\n",
      "Of Nature's secrets, and her laws command,\n",
      "To aid our brief existence, short and frail,\n",
      "And ease the burdens of this mortal land.\n",
      "Yet, though they boast of wisdom and of might,\n",
      "They touch not man's deep soul, nor quell his plight.\n"
     ]
    }
   ],
   "source": [
    "# Configuration using dictionary\n",
    "generation_config_dict = {\n",
    "    \"temperature\": 0.2,      # Lower = more deterministic, higher = more creative\n",
    "    \"max_output_tokens\": 2000, # Limit response length\n",
    "    \"top_p\": 0.8,            # Nucleus sampling - diversity of token selection\n",
    "    \"top_k\": 30,             # Consider top 30 most likely tokens\n",
    "\n",
    "}\n",
    "\n",
    "# TODO: Call client.models.generate_content()\n",
    "# Pass the MODEL_ID, a prompt to \"Write a very short tagline for a new brand of eco-friendly sneakers.\",\n",
    "# and the generation_config_dict.\n",
    "# response_config = client.models.generate_content(\n",
    "#     model=...,\n",
    "#     contents=...,\n",
    "#     config=...\n",
    "# )\n",
    "response_config = client.models.generate_content(\n",
    "    model=MODEL_ID,\n",
    "    contents=\"Write a very short tagline for a new brand of eco-friendly sneakers.\",\n",
    "    config=generation_config_dict\n",
    ")\n",
    "\n",
    "print(f\"configured model response:\\n{response_poet.text}\")"
   ]
  },
  {
   "cell_type": "markdown",
   "id": "59d91651",
   "metadata": {},
   "source": [
    "**Parameter Guide:**\n",
    "- **Temperature (0.0-2.0)**: Controls randomness. Use 0.2-0.4 for factual content, 0.7-1.0 for creative content\n",
    "- **Top-p (0.0-1.0)**: Controls diversity. Lower values = more focused, higher = more diverse\n",
    "- **Top-k**: Limits token choices. Lower = more focused, higher = more diverse\n",
    "- **Max output tokens**: Prevents overly long responses and controls costs\n",
    "\n",
    "## 8. Long Context and File Uploads\n",
    "\n",
    "Gemini 2.5 Pro has a 1M token context window. In practice, 1 million tokens could look like:\n",
    "\n",
    "- 50,000 lines of code (with the standard 80 characters per line)\n",
    "- All the text messages you have sent in the last 5 years\n",
    "- 8 average length English novels\n",
    "- 1 hour of video data\n",
    "\n",
    "The File API allows you to upload files to the Gemini API and use them as context for your requests."
   ]
  },
  {
   "cell_type": "code",
   "execution_count": 18,
   "id": "c0964dc9",
   "metadata": {},
   "outputs": [
    {
     "name": "stdout",
     "output_type": "stream",
     "text": [
      "File uploaded successfully: files/xw1pj961w8lf\n",
      "Summary:\n",
      "Here are three key points summarizing *The Adventures of Tom Sawyer*:\n",
      "\n",
      "1.  **A Spirited Boyhood in Missouri:** The novel vividly portrays Tom Sawyer's imaginative and mischievous adventures growing up in a small town along the Mississippi River, featuring iconic scenes like the whitewashing of the fence and his escapades playing pirates and Indians with his friends Joe Harper and Huckleberry Finn.\n",
      "2.  **Witnessing a Murder and its Moral Burden:** The central conflict arises when Tom and Huck accidentally witness a murder in the graveyard, leading to a pact of secrecy, intense fear of Injun Joe, and a significant moral dilemma for Tom that culminates in him bravely testifying at Muff Potter's trial.\n",
      "3.  **The Quest for Treasure and Coming of Age:** Their ongoing pursuit of hidden treasure, particularly with Huck, leads them into dangerous situations, including getting lost in a cave with Becky Thatcher and a final, thrilling confrontation with Injun Joe, ultimately bringing them immense wealth and a newfound, albeit sometimes challenging, integration into respectable society.\n",
      "\n",
      "Token usage: 103068\n"
     ]
    }
   ],
   "source": [
    "# Example with a text file (more reliable than the audio example)\n",
    "import requests\n",
    "\n",
    "# Download a sample text file\n",
    "sample_text_url = \"https://www.gutenberg.org/files/74/74-0.txt\"  # Adventures of Tom Sawyer\n",
    "response_req = requests.get(sample_text_url)\n",
    "\n",
    "# Save to local file\n",
    "with open(\"sample_book.txt\", \"w\", encoding=\"utf-8\") as f:\n",
    "    f.write(response_req.text)\n",
    "\n",
    "# Upload the file to the Gemini API\n",
    "try:\n",
    "    myfile = client.files.upload(file=\"sample_book.txt\")\n",
    "    print(f\"File uploaded successfully: {myfile.name}\")\n",
    "    \n",
    "    # Generate content using the uploaded file as context\n",
    "    response = client.models.generate_content(\n",
    "        model=MODEL_ID, \n",
    "        contents=[myfile, \"Summarize this book in 3 key points\"]\n",
    "    )\n",
    "    \n",
    "    print(\"Summary:\")\n",
    "    print(response.text)\n",
    "    \n",
    "    # Check token usage for the large context\n",
    "    print(f\"\\nToken usage: {response.usage_metadata.total_token_count}\")\n",
    "    \n",
    "except Exception as e:\n",
    "    print(f\"Error uploading file: {e}\")\n",
    "    print(\"Make sure the file exists and is accessible\")"
   ]
  },
  {
   "cell_type": "code",
   "execution_count": 19,
   "id": "34237d87",
   "metadata": {},
   "outputs": [
    {
     "data": {
      "text/plain": [
       "GenerateContentResponseUsageMetadata(cache_tokens_details=None, cached_content_token_count=None, candidates_token_count=211, candidates_tokens_details=None, prompt_token_count=102026, prompt_tokens_details=[ModalityTokenCount(modality=<MediaModality.TEXT: 'TEXT'>, token_count=102026)], thoughts_token_count=831, tool_use_prompt_token_count=None, tool_use_prompt_tokens_details=None, total_token_count=103068, traffic_type=None)"
      ]
     },
     "execution_count": 19,
     "metadata": {},
     "output_type": "execute_result"
    }
   ],
   "source": [
    "response.usage_metadata"
   ]
  },
  {
   "cell_type": "markdown",
   "id": "c465f36e",
   "metadata": {},
   "source": [
    "## 9. !! Exercise: Chat with a \"Book\" !!\n",
    "\n",
    "Create an interactive chat session where you can \"talk\" to the book \"Alice in Wonderland\". You'll set up the chat with a specific persona for the AI and use the book's text as context for the conversation.\n",
    "\n",
    "Task: \n",
    "- Download the text of \"Alice in Wonderland\" (a helper code block is provided).\n",
    "- Upload the book's text file (`alice_in_wonderland.txt`) to the Gemini API using `client.files.upload()`.\n",
    "- Create a chat session using `client.chats.create()`:\n",
    "- Send an initial message to the chat session using `chat.send_message()`:\n",
    "- Send at least one follow-up question to the chat session (e.g., \"Explain the various methods of speech delivery in more detail\") and print its response."
   ]
  },
  {
   "cell_type": "code",
   "execution_count": 20,
   "id": "d22740e2",
   "metadata": {},
   "outputs": [
    {
     "name": "stdout",
     "output_type": "stream",
     "text": [
      "Book downloaded successfully!\n"
     ]
    }
   ],
   "source": [
    "import requests\n",
    "\n",
    "# Download Alice in Wonderland\n",
    "book_text_url = \"https://www.gutenberg.org/files/11/11-0.txt\"\n",
    "try:\n",
    "    response_book_req = requests.get(book_text_url)\n",
    "    response_book_req.raise_for_status()  # Raise an exception for bad status codes\n",
    "    \n",
    "    with open(\"alice_in_wonderland.txt\", \"w\", encoding=\"utf-8\") as f:\n",
    "        f.write(response_book_req.text)\n",
    "    print(\"Book downloaded successfully!\")\n",
    "    \n",
    "except requests.RequestException as e:\n",
    "    print(f\"Error downloading book: {e}\")"
   ]
  },
  {
   "cell_type": "code",
   "execution_count": 26,
   "id": "34b5b3bc",
   "metadata": {},
   "outputs": [
    {
     "name": "stdout",
     "output_type": "stream",
     "text": [
      "File uploaded successfully: files/8l8rb4ygs3ax\n",
      "User: Can you briefly describe the book?\n",
      "Model:\n",
      "\"Alice's Adventures in Wonderland\" tells the story of a young girl named Alice who, bored with her mundane surroundings, follows a White Rabbit down a rabbit-hole into a fantastical world called Wonderland. Throughout her journey, Alice experiences bewildering changes in size, struggles to understand the illogical rules and conversations of the peculiar creatures she meets (such as the White Rabbit, a philosophical Caterpillar, a grinning Cheshire Cat, the Mad Hatter, the March Hare, and the Dormouse), and frequently faces the tyrannical Queen of Hearts and her constant threats of execution. The book culminates in a chaotic court trial before Alice wakes up to realize her entire adventure was a vivid dream.\n",
      "\n",
      "Token usage: 40182\n"
     ]
    }
   ],
   "source": [
    "# TODO:\n",
    "try:\n",
    "    myfile = client.files.upload(file=\"alice_in_wonderland.txt\")\n",
    "    print(f\"File uploaded successfully: {myfile.name}\")\n",
    "\n",
    "    chat_session = client.chats.create(model=MODEL_ID)\n",
    "\n",
    "    user_message1 = \"Can you briefly describe the book?\"\n",
    "    print(f\"User: {user_message1}\")\n",
    "    response1 = chat_session.send_message(message=[myfile, user_message1])\n",
    "    \n",
    "    # # Generate content using the uploaded file as context\n",
    "    # response = client.models.generate_content(\n",
    "    #     model=MODEL_ID, \n",
    "    #     contents=[myfile, \"Summarize this book in 3 key points\"]\n",
    "    # )\n",
    "    \n",
    "    print(\"Model:\")\n",
    "    print(response1.text)\n",
    "    \n",
    "    # Check token usage for the large context\n",
    "    print(f\"\\nToken usage: {response1.usage_metadata.total_token_count}\")\n",
    "    \n",
    "except Exception as e:\n",
    "    print(f\"Error uploading file: {e}\")\n",
    "    print(\"Make sure the file exists and is accessible\")"
   ]
  },
  {
   "cell_type": "code",
   "execution_count": 27,
   "id": "c152d709",
   "metadata": {},
   "outputs": [
    {
     "name": "stdout",
     "output_type": "stream",
     "text": [
      "User: Can you briefly describe the book?\n",
      "Model:\n",
      "The court trial in \"Alice's Adventures in Wonderland\" is chaotic due to its utter **absurdity, illogic, and the arbitrary nature of its proceedings**. Here's why:\n",
      "\n",
      "1.  **Arbitrary Authority:** The King acts as the judge, but he's incompetent and easily swayed, constantly changing his mind or inventing rules on the spot (like \"Rule Forty-two: All persons more than a mile high to leave the court\"). The Queen of Hearts is even worse, frequently shouting \"Off with his head!\" or \"Off with her head!\" without any real cause or evidence, and famously demanding \"Sentence first—verdict afterwards.\"\n",
      "\n",
      "2.  **Incompetent Jury:** The twelve jurors (various animals and birds, including Bill the Lizard) are more concerned with writing down their names or making notes of absurdities (like Alice's \"stupid things!\") than with actual evidence. They are easily influenced and engage in nonsensical calculations (like adding up dates and converting them to shillings and pence).\n",
      "\n",
      "3.  **Nonsensical Witnesses:**\n",
      "    *   **The Hatter** provides rambling, incoherent testimony about tea-time, which the King tries to interpret literally and nonsensically. He's nervous and bites his teacup, leading to further confusion.\n",
      "    *   **The Cook** simply refuses to answer questions (\"Shan't!\") and claims the tarts are made of \"Pepper, mostly.\"\n",
      "    *   **The Dormouse** (who keeps falling asleep) makes random, irrelevant interjections like \"Treacle,\" leading to frantic attempts to \"suppress\" him (including being stuffed into a bag and sat upon).\n",
      "\n",
      "4.  **Lack of Proper Procedure:** There are no real rules of evidence or logical progression. The White Rabbit, acting as herald, struggles to maintain any semblance of order. The King interrupts constantly, misinterprets everything, and even reads out a cryptic poem (the \"evidence\") that has no clear meaning.\n",
      "\n",
      "5.  **Alice's Disruptive Growth:** Alice herself contributes to the chaos when she begins to grow rapidly again. She knocks over the jury box, spilling the jurors, and openly challenges the King and Queen's authority, pointing out the ridiculousness of the situation.\n",
      "\n",
      "In essence, the trial is a perfect encapsulation of Wonderland's topsy-turvy world, where reason is absent, authority is tyrannical and senseless, and everything is governed by caprice rather than justice.\n"
     ]
    }
   ],
   "source": [
    "# TODO:\n",
    "user_message2 = \"What about the court trial? Why is it chaotic?\"\n",
    "print(f\"User: {user_message2}\")\n",
    "response2 = chat_session.send_message(\n",
    "    message=user_message2\n",
    ")\n",
    "\n",
    "print(\"Model:\")\n",
    "print(response2.text)"
   ]
  },
  {
   "cell_type": "markdown",
   "id": "76159ebc",
   "metadata": {},
   "source": [
    "## Recap & Next Steps\n",
    "\n",
    "**What You've Learned:**\n",
    "- Basic text generation with `client.models.generate_content()` for single prompts\n",
    "- Token counting and cost estimation for better resource management\n",
    "- Streaming responses with `generate_content_stream()` for improved user experience\n",
    "- Multi-turn conversations using `client.chats.create()` and chat sessions\n",
    "- System instructions for consistent model behavior and personality\n",
    "- Generation configuration parameters for fine-tuning responses\n",
    "- Long context handling and file uploads with the File API\n",
    "- Error handling and best practices for production applications\n",
    "\n",
    "**Key Takeaways:**\n",
    "- Monitor token usage to control costs and stay within limits\n",
    "- Use streaming for interactive applications and long responses\n",
    "- Configure parameters based on your use case (factual vs creative content)\n",
    "- Implement proper error handling for robust applications\n",
    "- System instructions are powerful for setting behavior and tone\n",
    "\n",
    "**Next Steps:** Continue with [Part 2: Multimodal Capabilities](https://github.com/philschmid/gemini-2.5-ai-engineering-workshop/blob/main/notebooks/02-multimodal-capabilities.ipynb) [![Open In Colab](https://colab.research.google.com/assets/colab-badge.svg)](https://colab.research.google.com/github/philschmid/gemini-2.5-ai-engineering-workshop/blob/main/notebooks/02-multimodal-capabilities.ipynb)\n",
    "\n",
    "**More Resources:**\n",
    "- [Text Generation Guide](https://ai.google.dev/gemini-api/docs/text-generation)\n",
    "- [Token Counting Guide](https://ai.google.dev/gemini-api/docs/tokens)\n",
    "- [Long Context Documentation](https://ai.google.dev/gemini-api/docs/long-context)\n",
    "- [File API Documentation](https://ai.google.dev/gemini-api/docs/files)"
   ]
  }
 ],
 "metadata": {
  "kernelspec": {
   "display_name": "gemini_2.5_venv",
   "language": "python",
   "name": "python3"
  },
  "language_info": {
   "codemirror_mode": {
    "name": "ipython",
    "version": 3
   },
   "file_extension": ".py",
   "mimetype": "text/x-python",
   "name": "python",
   "nbconvert_exporter": "python",
   "pygments_lexer": "ipython3",
   "version": "3.12.9"
  }
 },
 "nbformat": 4,
 "nbformat_minor": 5
}
